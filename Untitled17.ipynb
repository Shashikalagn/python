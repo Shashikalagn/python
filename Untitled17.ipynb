{
  "nbformat": 4,
  "nbformat_minor": 0,
  "metadata": {
    "colab": {
      "provenance": [],
      "authorship_tag": "ABX9TyM4peOyw5tFJUBySAW4s4LE",
      "include_colab_link": true
    },
    "kernelspec": {
      "name": "python3",
      "display_name": "Python 3"
    },
    "language_info": {
      "name": "python"
    }
  },
  "cells": [
    {
      "cell_type": "markdown",
      "metadata": {
        "id": "view-in-github",
        "colab_type": "text"
      },
      "source": [
        "<a href=\"https://colab.research.google.com/github/Shashikalagn/python/blob/main/Untitled17.ipynb\" target=\"_parent\"><img src=\"https://colab.research.google.com/assets/colab-badge.svg\" alt=\"Open In Colab\"/></a>"
      ]
    },
    {
      "cell_type": "code",
      "execution_count": null,
      "metadata": {
        "colab": {
          "base_uri": "https://localhost:8080/"
        },
        "id": "yobH6ZMoxm8r",
        "outputId": "c195eb5e-fcfe-4789-f1a6-b3b8faafa4cd"
      },
      "outputs": [
        {
          "output_type": "stream",
          "name": "stdout",
          "text": [
            "start-  3 4 5  -end\n"
          ]
        }
      ],
      "source": [
        "# CLASS is a blueprint for creating objects that share \n",
        "# similar properties and behaviour\n",
        "\n",
        "# OBJECT : Instance of the Class\n",
        "\n",
        "# CLASS is an example of encapsulation in OOP (it encapsulates properties,\n",
        "# functions and methods)\n",
        "class Queue:\n",
        "    def __init__(self) -> None:\n",
        "        self.items=[]\n",
        "    def enqueue(self,items):\n",
        "      self.items.append(items)\n",
        "    def dequeue(self,number_of_items=1):\n",
        "      counter=0\n",
        "      while not self.is_empty() and counter<number_of_items:\n",
        "          self.items.pop(0)\n",
        "          counter+=1\n",
        "    def is_empty(self):\n",
        "      if not self.items:\n",
        "         return True\n",
        "      return False\n",
        "    def __str__(self)-> str:\n",
        "       res=\"start-  \"\n",
        "       for item in self.items:\n",
        "           res+=str(item)+\" \"\n",
        "       return res+\" -end\"\n",
        "q=  Queue()\n",
        "q.enqueue(1)\n",
        "q.enqueue(2)\n",
        "q.enqueue(3)\n",
        "q.enqueue(4)\n",
        "q.enqueue(5)\n",
        "q.dequeue(2)\n",
        "print(q)\n"
      ]
    },
    {
      "cell_type": "code",
      "source": [
        "class Graph:\n",
        "     def __init__(self)-> None:\n",
        "      self.graph={}\n",
        "     def add_vertex(self,vertex):\n",
        "         if vertex not in self.graph:\n",
        "            self.graph[vertex]=[] \n",
        "     def add_edges(self,vertex1,vertex2):\n",
        "         if vertex1 not in self.graph:\n",
        "            self.add_vertex(vertex1)    \n",
        "         if vertex2 not in self.graph:\n",
        "            self.add_vertex(vertex2)\n",
        "         self.graph[vertex1].append(vertex2)\n",
        "         self.graph[vertex2].append(vertex1)\n",
        "     def get_vertices(self):\n",
        "        return list(self.graph.keys()) \n",
        "     def getEdges(self):\n",
        "         edges=[]\n",
        "         for vertex in self.graph:\n",
        "             for neighbour in self.graph[vertex]:\n",
        "                 edges.append((vertex,neighbour))\n",
        "             return edges\n",
        "g=Graph()\n",
        "g.add_vertex(\"A\")\n",
        "g.add_vertex(\"B\")\n",
        "g.add_vertex(\"C\")\n",
        "g.add_edges(\"A\",\"B\")\n",
        "g.add_edges(\"B\",\"C\")\n",
        "g.add_edges(\"C\",\"A\")\n",
        "print(g.get_vertices())\n",
        "print(g.getEdges)                                 "
      ],
      "metadata": {
        "colab": {
          "base_uri": "https://localhost:8080/"
        },
        "id": "v_-urSiJ8Yxf",
        "outputId": "b1bf33e3-0a53-474a-b2c4-765c8701d897"
      },
      "execution_count": null,
      "outputs": [
        {
          "output_type": "stream",
          "name": "stdout",
          "text": [
            "['A', 'B', 'C']\n",
            "[('A', 'B'), ('A', 'C')]\n"
          ]
        }
      ]
    },
    {
      "cell_type": "code",
      "source": [
        "#directed GRAPH"
      ],
      "metadata": {
        "id": "f7yLLzTGgj8S"
      },
      "execution_count": null,
      "outputs": []
    },
    {
      "cell_type": "code",
      "source": [
        "class DirectedGraph:\n",
        "    def __init__(self) -> None:\n",
        "        self.graph={}\n",
        "    def addEdge(self,source,destination):\n",
        "         if source not in self.graph:\n",
        "            self.graph[source]=[]\n",
        "         self.graph[source].append(destination)\n",
        "    def print_graph(self):\n",
        "         for vertex in self.graph:\n",
        "             for adjacent_vertex in self.graph[vertex]:\n",
        "                 print(vertex,\"->\",adjacent_vertex)\n",
        "graph=DirectedGraph()\n",
        "graph.addEdge(\"A\",\"B\")\n",
        "graph.addEdge(\"A\",\"C\")\n",
        "graph.addEdge(\"B\",\"D\")\n",
        "graph.addEdge(\"C\",\"D\")\n",
        "graph.addEdge(\"D\",\"E\")\n",
        "graph.print_graph()\n",
        "\n"
      ],
      "metadata": {
        "colab": {
          "base_uri": "https://localhost:8080/"
        },
        "id": "zCOiSYi4hwmz",
        "outputId": "b4417b13-04e2-419f-9c04-954e3309710f"
      },
      "execution_count": null,
      "outputs": [
        {
          "output_type": "stream",
          "name": "stdout",
          "text": [
            "A -> B\n",
            "A -> C\n",
            "B -> D\n",
            "C -> D\n",
            "D -> E\n"
          ]
        }
      ]
    },
    {
      "cell_type": "code",
      "source": [
        "#dfs\n",
        "class Graph:\n",
        "   def __init__(self) -> None:\n",
        "       self.graph={}\n",
        "   def addEdge(self,source,destination):\n",
        "       if source not in self.graph:\n",
        "          self.graph[source]=[]\n",
        "       self.graph[source].append(destination)\n",
        "   def print_graph(self):\n",
        "       for vertex in self.graph:\n",
        "           for adjacent_vertex in self.graph[vertex]:\n",
        "               print(vertex,\"->\",adjacent_vertex)\n",
        "   def dfs(self,start_vertex):\n",
        "       visited=set()\n",
        "       def dfs_util(vertex):\n",
        "           visited.add(vertex)\n",
        "           print(vertex,end=\" \")\n",
        "\n",
        "           if vertex in self.graph:\n",
        "              for adjacent_vertex in self.graph[vertex]:\n",
        "                  if adjacent_vertex not in visited:\n",
        "                      dfs_util(adjacent_vertex)\n",
        "       dfs_util(start_vertex)   \n",
        "graph=Graph()\n",
        "graph.addEdge(\"A\",\"B\") \n",
        "graph.addEdge(\"A\",\"C\")\n",
        "graph.addEdge(\"B\",\"D\")\n",
        "graph.addEdge(\"C\",\"D\")\n",
        "graph.addEdge(\"D\",\"E\")\n",
        "print(\"DFS traversal\")\n",
        "graph.dfs(\"A\")\n",
        "    \n"
      ],
      "metadata": {
        "colab": {
          "base_uri": "https://localhost:8080/"
        },
        "id": "2NQouShcmgyV",
        "outputId": "4fa50537-b021-4e42-a814-80ae07e45801"
      },
      "execution_count": null,
      "outputs": [
        {
          "output_type": "stream",
          "name": "stdout",
          "text": [
            "DFS traversal\n",
            "A B D E C "
          ]
        }
      ]
    },
    {
      "cell_type": "code",
      "source": [
        "from collections import deque\n",
        "class GraphBFS:\n",
        "    def __init__(self) -> None:\n",
        "        self.graph={}\n",
        "    def addEdge(self,source,destination):\n",
        "        if source not in self.graph:\n",
        "           self.graph[source]=[]\n",
        "        self.graph[source].append(destination)\n",
        "    def bfs(self,start_vertex):\n",
        "        visited=set()\n",
        "        queue=deque()\n",
        "        visited.add(start_vertex)\n",
        "        queue.append(start_vertex)\n",
        "\n",
        "        while queue:\n",
        "            current_vertex=queue.popleft()\n",
        "            print(current_vertex,end = \" \")\n",
        "\n",
        "            if current_vertex in self.graph:\n",
        "               for adjacent_vertex in self.graph[current_vertex]:\n",
        "                   if adjacent_vertex not in visited:\n",
        "                      visited.add(adjacent_vertex)\n",
        "                      queue.append(adjacent_vertex)\n",
        "\n",
        "graph=GraphBFS()\n",
        "graph.addEdge(\"A\",\"B\") \n",
        "graph.addEdge(\"A\",\"C\")\n",
        "graph.addEdge(\"B\",\"D\")\n",
        "graph.addEdge(\"C\",\"D\")\n",
        "graph.addEdge(\"D\",\"E\")   \n",
        "print(\"GraphBFS\")  \n",
        "graph.bfs(\"A\")              "
      ],
      "metadata": {
        "colab": {
          "base_uri": "https://localhost:8080/"
        },
        "id": "MmXu_IT5xGys",
        "outputId": "15382ead-736b-4ad2-def2-d1088c0e015f"
      },
      "execution_count": null,
      "outputs": [
        {
          "output_type": "stream",
          "name": "stdout",
          "text": [
            "GraphBFS\n",
            "A B C D E "
          ]
        }
      ]
    },
    {
      "cell_type": "code",
      "source": [
        "def bfs(self,src):\n",
        "        visited = set()\n",
        "        queue = []\n",
        "        queue.append(src)\n",
        "        visited.add(src)\n",
        "        while len(queue):\n",
        "            size = len(queue)\n",
        "            for i in range(size):\n",
        "                front = queue.pop(0)\n",
        "                print(front,end=\" \")\n",
        "                for j in self.graph[front]:\n",
        "                    if j not in visited:\n",
        "                        queue.append(j)\n",
        "                        visited.add(j)\n",
        "            print()"
      ],
      "metadata": {
        "id": "XBdChNljJhhh"
      },
      "execution_count": null,
      "outputs": []
    },
    {
      "cell_type": "code",
      "source": [
        "# Binary tree\n",
        "class Node:\n",
        "    def __init__(self,data) -> None:\n",
        "        self.data=data\n",
        "        self.leftChild=None\n",
        "        self.rightChild=None\n",
        "    \n",
        "    def insert(self,data):\n",
        "        if data <self.data:\n",
        "            if self.leftChild:\n",
        "                self.leftChild.insert(data)\n",
        "            else:\n",
        "                self.leftChild=Node(data)\n",
        "        else:\n",
        "            if self.rightChild:\n",
        "                self.rightChild.insert(data)\n",
        "            else:\n",
        "                self.rightChild = Node(data)\n",
        "    \n",
        "    def printTree(self,level=0):\n",
        "        if self.rightChild:\n",
        "            self.rightChild.printTree(level +1)\n",
        "        if self.data!=None:\n",
        "            print(' '* 4 * level +'->'+str(self.data))\n",
        "        if self.leftChild:\n",
        "            self.leftChild.printTree(level +1)    \n",
        "\n",
        "root = Node(27)\n",
        "root.insert(14)\n",
        "root.insert(35)\n",
        "root.insert(31)\n",
        "root.insert(10)\n",
        "root.insert(19)\n",
        "root.printTree()\n"
      ],
      "metadata": {
        "colab": {
          "base_uri": "https://localhost:8080/"
        },
        "id": "19bIvJWDTCsZ",
        "outputId": "21ab4815-7fab-407e-ff38-e87774be0352"
      },
      "execution_count": null,
      "outputs": [
        {
          "output_type": "stream",
          "name": "stdout",
          "text": [
            "    ->35\n",
            "        ->31\n",
            "->27\n",
            "        ->19\n",
            "    ->14\n",
            "        ->10\n"
          ]
        }
      ]
    },
    {
      "cell_type": "code",
      "source": [
        "class Node:\n",
        "    def __init__(self, data) -> None:\n",
        "        self.data = data\n",
        "        self.leftChild = None\n",
        "        self.rightChild = None\n",
        "    \n",
        "    def insert(self, data):\n",
        "        if data < self.data:\n",
        "            if self.leftChild:\n",
        "                self.leftChild.insert(data)\n",
        "            else:\n",
        "                self.leftChild = Node(data)\n",
        "        else:\n",
        "            if self.rightChild:\n",
        "                self.rightChild.insert(data)\n",
        "            else:\n",
        "                self.rightChild = Node(data)\n",
        "    def printTree(self, level=0):\n",
        "        if self.rightChild:\n",
        "            self.rightChild.printTree(level + 1)\n",
        "        if self.data is not None:\n",
        "            print(' ' * 4 * level + '-> ' + str(self.data))\n",
        "        if self.leftChild:\n",
        "            self.leftChild.printTree(level + 1)\n",
        "    \n",
        "    def search(self, value):\n",
        "        if self.data == value:\n",
        "            return True\n",
        "        elif value < self.data and self.leftChild:\n",
        "            return self.leftChild.search(value)\n",
        "        elif value > self.data and self.rightChild:\n",
        "            return self.rightChild.search(value)\n",
        "        else:\n",
        "            return False\n",
        "root = Node(27)\n",
        "root.insert(14)\n",
        "root.insert(35)\n",
        "root.insert(31)\n",
        "root.insert(10)\n",
        "root.insert(19)\n",
        "root.printTree()\n",
        "\n",
        "print(\"Search for value 14:\", root.search(14))\n",
        "print(\"Search for value 31:\", root.search(31))\n",
        "print(\"Search for value 50:\", root.search(50))                            "
      ],
      "metadata": {
        "colab": {
          "base_uri": "https://localhost:8080/"
        },
        "id": "iZ4AW16eZ6-j",
        "outputId": "8c9653a7-c54f-4a6e-f796-f4495125771c"
      },
      "execution_count": null,
      "outputs": [
        {
          "output_type": "stream",
          "name": "stdout",
          "text": [
            "    -> 35\n",
            "        -> 31\n",
            "-> 27\n",
            "        -> 19\n",
            "    -> 14\n",
            "        -> 10\n",
            "Search for value 14: True\n",
            "Search for value 31: True\n",
            "Search for value 50: False\n"
          ]
        }
      ]
    },
    {
      "cell_type": "code",
      "source": [
        "def add_elements_by_index(lst,indexes):\n",
        "    result=0\n",
        "    for index in indexes:\n",
        "        if 0<=index<len(lst):\n",
        "            result+=lst[index]\n",
        "    return result\n",
        "list=[1,2,3,4,5]\n",
        "indexes=[2,3,4]\n",
        "sum_of_elements=add_elements_by_index(list,indexes)\n",
        "print(\"Sum of elements:\",sum_of_elements)            "
      ],
      "metadata": {
        "colab": {
          "base_uri": "https://localhost:8080/"
        },
        "id": "xq-E6xJ7b3Hi",
        "outputId": "e16662e0-e0b6-4fa7-a351-22e5ce53e858"
      },
      "execution_count": null,
      "outputs": [
        {
          "output_type": "stream",
          "name": "stdout",
          "text": [
            "Sum of elements: 12\n"
          ]
        }
      ]
    },
    {
      "cell_type": "code",
      "source": [
        "a=[1,12,3,78,1,45,7,3,23]\n",
        "runningsum=a\n",
        "for i in range(1,len(a)):\n",
        "    runningsum[i]=runningsum[i-1]+runningsum[i]\n",
        "print(runningsum[5]-runningsum[2])    "
      ],
      "metadata": {
        "colab": {
          "base_uri": "https://localhost:8080/"
        },
        "id": "142jw9DkKCni",
        "outputId": "0ad7eccf-df36-4afa-ed3e-f898ce38c407"
      },
      "execution_count": null,
      "outputs": [
        {
          "output_type": "stream",
          "name": "stdout",
          "text": [
            "124\n"
          ]
        }
      ]
    },
    {
      "cell_type": "code",
      "source": [
        "a=3+78+1\n",
        "print(a)"
      ],
      "metadata": {
        "colab": {
          "base_uri": "https://localhost:8080/"
        },
        "id": "Tq_Fz44xUiXl",
        "outputId": "f0ad9a8f-617d-46e2-ba61-cbfc640d548e"
      },
      "execution_count": null,
      "outputs": [
        {
          "output_type": "stream",
          "name": "stdout",
          "text": [
            "82\n"
          ]
        }
      ]
    },
    {
      "cell_type": "code",
      "source": [
        "a=[1,12,3,78,1,45,7,3,23]\n",
        "runningsum=a\n",
        "start_index=0\n",
        "start_index=start_index-1\n",
        "end_index=4\n",
        "for i in range(1,len(a)):\n",
        "    runningsum[i]=runningsum[i-1]+runningsum[i]\n",
        "\n",
        "    # for index 2 to 4\n",
        "\n",
        "if start_index==-1:\n",
        "    print(runningsum[end_index])\n",
        "else:\n",
        "    print(runningsum[end_index]-runningsum[start_index])        "
      ],
      "metadata": {
        "colab": {
          "base_uri": "https://localhost:8080/"
        },
        "id": "vmrLffapU0BQ",
        "outputId": "ab3b473f-eec0-49a3-c867-6bc33637bf27"
      },
      "execution_count": null,
      "outputs": [
        {
          "output_type": "stream",
          "name": "stdout",
          "text": [
            "95\n"
          ]
        }
      ]
    },
    {
      "cell_type": "code",
      "source": [
        "def counntoffactors(num):\n",
        "    count=1\n",
        "    for item in range(1,num):\n",
        "      if num% item==0:\n",
        "           count+=1\n",
        "    return count\n",
        "counntoffactors(24)           "
      ],
      "metadata": {
        "colab": {
          "base_uri": "https://localhost:8080/"
        },
        "id": "ab-sOyoHYuJ0",
        "outputId": "f4d0f297-aba2-4fa0-8d53-20028cef9399"
      },
      "execution_count": null,
      "outputs": [
        {
          "output_type": "execute_result",
          "data": {
            "text/plain": [
              "8"
            ]
          },
          "metadata": {},
          "execution_count": 7
        }
      ]
    },
    {
      "cell_type": "code",
      "source": [
        "def sum_brute_force(N):\n",
        "    sum=0\n",
        "    for i in range(N):\n",
        "        sum=sum+i\n",
        "    return sum\n",
        "print(sum_brute_force(3000))        "
      ],
      "metadata": {
        "colab": {
          "base_uri": "https://localhost:8080/"
        },
        "id": "IuKCyGoIjqDS",
        "outputId": "17cc02fe-c179-4dcc-eba4-118b67a2f2d1"
      },
      "execution_count": null,
      "outputs": [
        {
          "output_type": "stream",
          "name": "stdout",
          "text": [
            "4498500\n"
          ]
        }
      ]
    },
    {
      "cell_type": "code",
      "source": [
        "def sumAP(N):\n",
        "    sum=0\n",
        "    sum=((N*(N+1))/2)\n",
        "    return sum\n",
        "print(sumAP(3000))    "
      ],
      "metadata": {
        "colab": {
          "base_uri": "https://localhost:8080/"
        },
        "id": "yPJLRKObj_sY",
        "outputId": "d51c50b8-bc27-4f22-c401-31f796a8120d"
      },
      "execution_count": null,
      "outputs": [
        {
          "output_type": "stream",
          "name": "stdout",
          "text": [
            "4501500.0\n"
          ]
        }
      ]
    },
    {
      "cell_type": "code",
      "source": [
        "import math\n",
        "num = 10000\n",
        "factors = 0\n",
        "for i in range(2,math.ceil(math.sqrt(num))+1):\n",
        "    if num%i == 0:\n",
        "        factors +=2 if num/i!=i else 1\n",
        "factors += 1\n",
        "factors"
      ],
      "metadata": {
        "colab": {
          "base_uri": "https://localhost:8080/"
        },
        "id": "xYpJclS3kRzw",
        "outputId": "d75e6ff2-0b2c-458a-c532-280d296018b3"
      },
      "execution_count": null,
      "outputs": [
        {
          "output_type": "execute_result",
          "data": {
            "text/plain": [
              "24"
            ]
          },
          "metadata": {},
          "execution_count": 11
        }
      ]
    },
    {
      "cell_type": "code",
      "source": [
        "def counteroffactors(num):\n",
        "  count=1\n",
        "  for item in range(1,(num//2)+1):\n",
        "    if num%item==0:\n",
        "       count+=1\n",
        "       print(item)\n",
        "    return count\n",
        "counntoffactors(24)    \n"
      ],
      "metadata": {
        "colab": {
          "base_uri": "https://localhost:8080/"
        },
        "id": "kNSYerdCmfdS",
        "outputId": "50cb9862-f6a9-45b2-8e4a-357f6ac0cca9"
      },
      "execution_count": null,
      "outputs": [
        {
          "output_type": "execute_result",
          "data": {
            "text/plain": [
              "8"
            ]
          },
          "metadata": {},
          "execution_count": 12
        }
      ]
    },
    {
      "cell_type": "code",
      "source": [
        "def reverseArray(arr):\n",
        "    start_pointer=0\n",
        "    end_pointer=len(arr) -1\n",
        "    while start_pointer < end_pointer:\n",
        "          arr[start_pointer],arr[end_pointer]=arr[end_pointer],arr[start_pointer]\n",
        "          start_pointer+=1\n",
        "          end_pointer-=1\n",
        "    return arr\n",
        "reverseArray([1,2,3,4])          "
      ],
      "metadata": {
        "colab": {
          "base_uri": "https://localhost:8080/"
        },
        "id": "iH8uywvEtv7b",
        "outputId": "ffd01bf1-7a71-4b6e-ade4-336c47de19df"
      },
      "execution_count": null,
      "outputs": [
        {
          "output_type": "execute_result",
          "data": {
            "text/plain": [
              "[4, 3, 2, 1]"
            ]
          },
          "metadata": {},
          "execution_count": 13
        }
      ]
    },
    {
      "cell_type": "code",
      "source": [
        "def rotateArray(arr,n):\n",
        "    n_rotations=n%len(arr)\n",
        "    print(\"n_rotations\", n_rotations)\n",
        "    for rotation in range(n_rotations):\n",
        "        temp=arr[-1]\n",
        "        for i in range(len(arr)):\n",
        "            arr[i],temp=temp,arr[i]\n",
        "        return arr\n",
        "rotateArray([1,2,3,4,5],3)            "
      ],
      "metadata": {
        "colab": {
          "base_uri": "https://localhost:8080/"
        },
        "id": "EYnEmOug0MiH",
        "outputId": "b3179a73-5be5-4ec1-e884-ecc306070785"
      },
      "execution_count": null,
      "outputs": [
        {
          "output_type": "stream",
          "name": "stdout",
          "text": [
            "n_rotations 3\n"
          ]
        },
        {
          "output_type": "execute_result",
          "data": {
            "text/plain": [
              "[5, 1, 2, 3, 4]"
            ]
          },
          "metadata": {},
          "execution_count": 17
        }
      ]
    },
    {
      "cell_type": "code",
      "source": [
        "def rotatearray(l,n):\n",
        "    a=l[n:]+l[:n]\n",
        "    return a\n",
        "\n",
        "rotatearray([1,2,3,4],3)\n",
        "def rotatearray(l,n):\n",
        "    a=l[n:]+l[:n]\n",
        "    return a\n",
        "\n",
        "rotatearray([1,2,3,4],3)\n",
        "def rotate_array(arr, n):\n",
        "\n",
        "    rotations = n % len(arr)\n",
        "    \n",
        "    #reversed the entire array\n",
        "    reverse_array(arr, 0, len(arr) - 1)\n",
        "\n",
        "    #reverse the first part upto rotation\n",
        "    reverse_array(arr, 0, rotations - 1)\n",
        "\n",
        "    # reverse remaining part\n",
        "    reverse_array(arr, rotations, len(arr) - 1)\n",
        "\n",
        "    return arr\n",
        "\n",
        "print(rotate_array(arr,4))"
      ],
      "metadata": {
        "colab": {
          "base_uri": "https://localhost:8080/",
          "height": 201
        },
        "id": "NKLJiCg45Q5N",
        "outputId": "adfeb968-70cf-4b61-9782-937175561e9f"
      },
      "execution_count": null,
      "outputs": [
        {
          "output_type": "error",
          "ename": "NameError",
          "evalue": "ignored",
          "traceback": [
            "\u001b[0;31m---------------------------------------------------------------------------\u001b[0m",
            "\u001b[0;31mNameError\u001b[0m                                 Traceback (most recent call last)",
            "\u001b[0;32m<ipython-input-20-51d8f18e5fa7>\u001b[0m in \u001b[0;36m<cell line: 26>\u001b[0;34m()\u001b[0m\n\u001b[1;32m     24\u001b[0m     \u001b[0;32mreturn\u001b[0m \u001b[0marr\u001b[0m\u001b[0;34m\u001b[0m\u001b[0;34m\u001b[0m\u001b[0m\n\u001b[1;32m     25\u001b[0m \u001b[0;34m\u001b[0m\u001b[0m\n\u001b[0;32m---> 26\u001b[0;31m \u001b[0mprint\u001b[0m\u001b[0;34m(\u001b[0m\u001b[0mrotate_array\u001b[0m\u001b[0;34m(\u001b[0m\u001b[0marr\u001b[0m\u001b[0;34m,\u001b[0m\u001b[0;36m4\u001b[0m\u001b[0;34m)\u001b[0m\u001b[0;34m)\u001b[0m\u001b[0;34m\u001b[0m\u001b[0;34m\u001b[0m\u001b[0m\n\u001b[0m",
            "\u001b[0;31mNameError\u001b[0m: name 'arr' is not defined"
          ]
        }
      ]
    },
    {
      "cell_type": "code",
      "source": [
        "def reverse_array(arr,start,end):\n",
        "\n",
        "    while start < end:\n",
        "        arr[start], arr[end] = arr[end], arr[start]\n",
        "        start += 1\n",
        "        end -= 1"
      ],
      "metadata": {
        "id": "7gcGQlml8G4z"
      },
      "execution_count": null,
      "outputs": []
    },
    {
      "cell_type": "code",
      "source": [
        "def bubble_sort(arr):\n",
        "    n=len(arr)\n",
        "    for i in range(n):\n",
        "        for j in range(0,n-i-1):\n",
        "            if arr[j]>arr[j+1]:\n",
        "                arr[j],arr[j+1]=arr[j+1],arr[j]\n",
        "        return arr\n",
        "print(bubble_sort([3,2,4,34,6,1,4,62,23]))                "
      ],
      "metadata": {
        "colab": {
          "base_uri": "https://localhost:8080/"
        },
        "id": "o2gPvZHk9TJm",
        "outputId": "68b36600-817d-4056-f73a-6fa008be68f2"
      },
      "execution_count": null,
      "outputs": [
        {
          "output_type": "stream",
          "name": "stdout",
          "text": [
            "[2, 3, 4, 6, 1, 4, 34, 23, 62]\n"
          ]
        }
      ]
    },
    {
      "cell_type": "code",
      "source": [
        "def bubble_sort(arr):\n",
        "  n=len(arr)\n",
        "  swapped = True\n",
        "  "
      ],
      "metadata": {
        "id": "XTuIWqotOqZB"
      },
      "execution_count": null,
      "outputs": []
    },
    {
      "cell_type": "markdown",
      "source": [],
      "metadata": {
        "id": "p1Si2jolW6BB"
      }
    },
    {
      "cell_type": "code",
      "source": [
        "import snoop\n",
        "@snoop\n",
        "def bubble_sort(arr):\n",
        "    n = len(arr)\n",
        "    swapped = True\n",
        "    while swapped:\n",
        "        swapped = False\n",
        "        for j in range(0,n-1):\n",
        "            if arr[j]>arr[j+1]:\n",
        "                arr[j],arr[j+1] = arr[j+1], arr[j]\n",
        "                swapped = True\n",
        "    return arr\n",
        "arr=[2,34,1,33,6,1]\n",
        "print(bubble_sort(arr))"
      ],
      "metadata": {
        "colab": {
          "base_uri": "https://localhost:8080/"
        },
        "id": "12_NVdBuT3ju",
        "outputId": "800edbce-fd50-486a-84e7-86e511fa87d3"
      },
      "execution_count": null,
      "outputs": [
        {
          "output_type": "stream",
          "name": "stderr",
          "text": [
            "05:08:13.19 >>> Call to bubble_sort in File \"<ipython-input-15-5ffa1232d13d>\", line 3\n",
            "05:08:13.19 ...... arr = [2, 34, 1, 33, 6, 1]\n",
            "05:08:13.19 ...... len(arr) = 6\n",
            "05:08:13.19    3 | def bubble_sort(arr):\n",
            "05:08:13.19    4 |     n = len(arr)\n",
            "05:08:13.19 .......... n = 6\n",
            "05:08:13.19    5 |     swapped = True\n",
            "05:08:13.20    6 |     while swapped:\n",
            "05:08:13.20    7 |         swapped = False\n",
            "05:08:13.20    8 |         for j in range(0,n-1):\n",
            "05:08:13.20 .............. j = 0\n",
            "05:08:13.20    9 |             if arr[j]>arr[j+1]:\n",
            "05:08:13.21    8 |         for j in range(0,n-1):\n",
            "05:08:13.21 .............. j = 1\n",
            "05:08:13.21    9 |             if arr[j]>arr[j+1]:\n",
            "05:08:13.21   10 |                 arr[j],arr[j+1] = arr[j+1], arr[j]\n",
            "05:08:13.21 ...................... arr = [2, 1, 34, 33, 6, 1]\n",
            "05:08:13.21   11 |                 swapped = True\n",
            "05:08:13.21    8 |         for j in range(0,n-1):\n",
            "05:08:13.21 .............. j = 2\n",
            "05:08:13.21    9 |             if arr[j]>arr[j+1]:\n",
            "05:08:13.22   10 |                 arr[j],arr[j+1] = arr[j+1], arr[j]\n",
            "05:08:13.22 ...................... arr = [2, 1, 33, 34, 6, 1]\n",
            "05:08:13.22   11 |                 swapped = True\n",
            "05:08:13.22    8 |         for j in range(0,n-1):\n",
            "05:08:13.22 .............. j = 3\n",
            "05:08:13.22    9 |             if arr[j]>arr[j+1]:\n",
            "05:08:13.22   10 |                 arr[j],arr[j+1] = arr[j+1], arr[j]\n",
            "05:08:13.22 ...................... arr = [2, 1, 33, 6, 34, 1]\n",
            "05:08:13.22   11 |                 swapped = True\n",
            "05:08:13.22    8 |         for j in range(0,n-1):\n",
            "05:08:13.23 .............. j = 4\n",
            "05:08:13.23    9 |             if arr[j]>arr[j+1]:\n",
            "05:08:13.23   10 |                 arr[j],arr[j+1] = arr[j+1], arr[j]\n",
            "05:08:13.23 ...................... arr = [2, 1, 33, 6, 1, 34]\n",
            "05:08:13.23   11 |                 swapped = True\n",
            "05:08:13.23    8 |         for j in range(0,n-1):\n",
            "05:08:13.23    6 |     while swapped:\n",
            "05:08:13.24    7 |         swapped = False\n",
            "05:08:13.24    8 |         for j in range(0,n-1):\n",
            "05:08:13.24 .............. j = 0\n",
            "05:08:13.24    9 |             if arr[j]>arr[j+1]:\n",
            "05:08:13.24   10 |                 arr[j],arr[j+1] = arr[j+1], arr[j]\n",
            "05:08:13.24 ...................... arr = [1, 2, 33, 6, 1, 34]\n",
            "05:08:13.24   11 |                 swapped = True\n",
            "05:08:13.25    8 |         for j in range(0,n-1):\n",
            "05:08:13.25 .............. j = 1\n",
            "05:08:13.25    9 |             if arr[j]>arr[j+1]:\n",
            "05:08:13.25    8 |         for j in range(0,n-1):\n",
            "05:08:13.25 .............. j = 2\n",
            "05:08:13.25    9 |             if arr[j]>arr[j+1]:\n",
            "05:08:13.25   10 |                 arr[j],arr[j+1] = arr[j+1], arr[j]\n",
            "05:08:13.26 ...................... arr = [1, 2, 6, 33, 1, 34]\n",
            "05:08:13.26   11 |                 swapped = True\n",
            "05:08:13.26    8 |         for j in range(0,n-1):\n",
            "05:08:13.26 .............. j = 3\n",
            "05:08:13.26    9 |             if arr[j]>arr[j+1]:\n",
            "05:08:13.26   10 |                 arr[j],arr[j+1] = arr[j+1], arr[j]\n",
            "05:08:13.26 ...................... arr = [1, 2, 6, 1, 33, 34]\n",
            "05:08:13.26   11 |                 swapped = True\n",
            "05:08:13.26    8 |         for j in range(0,n-1):\n",
            "05:08:13.27 .............. j = 4\n",
            "05:08:13.27    9 |             if arr[j]>arr[j+1]:\n",
            "05:08:13.27    8 |         for j in range(0,n-1):\n",
            "05:08:13.27    6 |     while swapped:\n",
            "05:08:13.27    7 |         swapped = False\n",
            "05:08:13.27    8 |         for j in range(0,n-1):\n",
            "05:08:13.27 .............. j = 0\n",
            "05:08:13.27    9 |             if arr[j]>arr[j+1]:\n",
            "05:08:13.28    8 |         for j in range(0,n-1):\n",
            "05:08:13.28 .............. j = 1\n",
            "05:08:13.28    9 |             if arr[j]>arr[j+1]:\n",
            "05:08:13.28    8 |         for j in range(0,n-1):\n",
            "05:08:13.28 .............. j = 2\n",
            "05:08:13.28    9 |             if arr[j]>arr[j+1]:\n",
            "05:08:13.28   10 |                 arr[j],arr[j+1] = arr[j+1], arr[j]\n",
            "05:08:13.29 ...................... arr = [1, 2, 1, 6, 33, 34]\n",
            "05:08:13.29   11 |                 swapped = True\n",
            "05:08:13.29    8 |         for j in range(0,n-1):\n",
            "05:08:13.29 .............. j = 3\n",
            "05:08:13.29    9 |             if arr[j]>arr[j+1]:\n",
            "05:08:13.29    8 |         for j in range(0,n-1):\n",
            "05:08:13.29 .............. j = 4\n",
            "05:08:13.29    9 |             if arr[j]>arr[j+1]:\n",
            "05:08:13.29    8 |         for j in range(0,n-1):\n",
            "05:08:13.29    6 |     while swapped:\n",
            "05:08:13.30    7 |         swapped = False\n",
            "05:08:13.30    8 |         for j in range(0,n-1):\n",
            "05:08:13.30 .............. j = 0\n",
            "05:08:13.30    9 |             if arr[j]>arr[j+1]:\n",
            "05:08:13.30    8 |         for j in range(0,n-1):\n",
            "05:08:13.31 .............. j = 1\n",
            "05:08:13.31    9 |             if arr[j]>arr[j+1]:\n",
            "05:08:13.31   10 |                 arr[j],arr[j+1] = arr[j+1], arr[j]\n",
            "05:08:13.31 ...................... arr = [1, 1, 2, 6, 33, 34]\n",
            "05:08:13.31   11 |                 swapped = True\n",
            "05:08:13.31    8 |         for j in range(0,n-1):\n",
            "05:08:13.31 .............. j = 2\n",
            "05:08:13.31    9 |             if arr[j]>arr[j+1]:\n",
            "05:08:13.31    8 |         for j in range(0,n-1):\n",
            "05:08:13.31 .............. j = 3\n",
            "05:08:13.31    9 |             if arr[j]>arr[j+1]:\n",
            "05:08:13.32    8 |         for j in range(0,n-1):\n",
            "05:08:13.32 .............. j = 4\n",
            "05:08:13.32    9 |             if arr[j]>arr[j+1]:\n",
            "05:08:13.32    8 |         for j in range(0,n-1):\n",
            "05:08:13.32    6 |     while swapped:\n",
            "05:08:13.32    7 |         swapped = False\n",
            "05:08:13.32    8 |         for j in range(0,n-1):\n",
            "05:08:13.32 .............. j = 0\n",
            "05:08:13.32    9 |             if arr[j]>arr[j+1]:\n",
            "05:08:13.32    8 |         for j in range(0,n-1):\n",
            "05:08:13.33 .............. j = 1\n",
            "05:08:13.33    9 |             if arr[j]>arr[j+1]:\n",
            "05:08:13.33    8 |         for j in range(0,n-1):\n",
            "05:08:13.33 .............. j = 2\n",
            "05:08:13.33    9 |             if arr[j]>arr[j+1]:\n",
            "05:08:13.33    8 |         for j in range(0,n-1):\n",
            "05:08:13.33 .............. j = 3\n",
            "05:08:13.33    9 |             if arr[j]>arr[j+1]:\n",
            "05:08:13.33    8 |         for j in range(0,n-1):\n",
            "05:08:13.33 .............. j = 4\n",
            "05:08:13.33    9 |             if arr[j]>arr[j+1]:\n",
            "05:08:13.33    8 |         for j in range(0,n-1):\n",
            "05:08:13.34    6 |     while swapped:\n",
            "05:08:13.34   12 |     return arr\n",
            "05:08:13.34 <<< Return value from bubble_sort: [1, 1, 2, 6, 33, 34]\n"
          ]
        },
        {
          "output_type": "stream",
          "name": "stdout",
          "text": [
            "[1, 1, 2, 6, 33, 34]\n"
          ]
        }
      ]
    },
    {
      "cell_type": "code",
      "source": [
        "from flask import Flask"
      ],
      "metadata": {
        "id": "zX4b0pvPX7sB"
      },
      "execution_count": null,
      "outputs": []
    },
    {
      "cell_type": "code",
      "source": [
        "pip install birdseye"
      ],
      "metadata": {
        "colab": {
          "base_uri": "https://localhost:8080/"
        },
        "id": "VYz1-sdmegN1",
        "outputId": "1b271bc7-e2fd-42df-eb41-6bf4a24d0202"
      },
      "execution_count": null,
      "outputs": [
        {
          "output_type": "stream",
          "name": "stdout",
          "text": [
            "Looking in indexes: https://pypi.org/simple, https://us-python.pkg.dev/colab-wheels/public/simple/\n",
            "Collecting birdseye\n",
            "  Downloading birdseye-0.9.4-py2.py3-none-any.whl (716 kB)\n",
            "\u001b[2K     \u001b[90m━━━━━━━━━━━━━━━━━━━━━━━━━━━━━━━━━━━━━━\u001b[0m \u001b[32m716.9/716.9 kB\u001b[0m \u001b[31m14.1 MB/s\u001b[0m eta \u001b[36m0:00:00\u001b[0m\n",
            "\u001b[?25hRequirement already satisfied: Flask in /usr/local/lib/python3.10/dist-packages (from birdseye) (2.2.4)\n",
            "Collecting flask-humanize (from birdseye)\n",
            "  Downloading Flask-Humanize-0.3.0.tar.gz (5.9 kB)\n",
            "  Preparing metadata (setup.py) ... \u001b[?25l\u001b[?25hdone\n",
            "Requirement already satisfied: sqlalchemy in /usr/local/lib/python3.10/dist-packages (from birdseye) (2.0.10)\n",
            "Collecting asttokens (from birdseye)\n",
            "  Downloading asttokens-2.2.1-py2.py3-none-any.whl (26 kB)\n",
            "Collecting littleutils>=0.2 (from birdseye)\n",
            "  Downloading littleutils-0.2.2.tar.gz (6.6 kB)\n",
            "  Preparing metadata (setup.py) ... \u001b[?25l\u001b[?25hdone\n",
            "Collecting cheap-repr (from birdseye)\n",
            "  Downloading cheap_repr-0.5.1-py2.py3-none-any.whl (12 kB)\n",
            "Collecting outdated (from birdseye)\n",
            "  Downloading outdated-0.2.2-py2.py3-none-any.whl (7.5 kB)\n",
            "Requirement already satisfied: cached-property in /usr/local/lib/python3.10/dist-packages (from birdseye) (1.5.2)\n",
            "Requirement already satisfied: six in /usr/local/lib/python3.10/dist-packages (from asttokens->birdseye) (1.16.0)\n",
            "Requirement already satisfied: Werkzeug>=2.2.2 in /usr/local/lib/python3.10/dist-packages (from Flask->birdseye) (2.3.0)\n",
            "Requirement already satisfied: Jinja2>=3.0 in /usr/local/lib/python3.10/dist-packages (from Flask->birdseye) (3.1.2)\n",
            "Requirement already satisfied: itsdangerous>=2.0 in /usr/local/lib/python3.10/dist-packages (from Flask->birdseye) (2.1.2)\n",
            "Requirement already satisfied: click>=8.0 in /usr/local/lib/python3.10/dist-packages (from Flask->birdseye) (8.1.3)\n",
            "Requirement already satisfied: humanize>=0.5.1 in /usr/local/lib/python3.10/dist-packages (from flask-humanize->birdseye) (4.6.0)\n",
            "Requirement already satisfied: setuptools>=44 in /usr/local/lib/python3.10/dist-packages (from outdated->birdseye) (67.7.2)\n",
            "Requirement already satisfied: requests in /usr/local/lib/python3.10/dist-packages (from outdated->birdseye) (2.27.1)\n",
            "Requirement already satisfied: typing-extensions>=4.2.0 in /usr/local/lib/python3.10/dist-packages (from sqlalchemy->birdseye) (4.5.0)\n",
            "Requirement already satisfied: greenlet!=0.4.17 in /usr/local/lib/python3.10/dist-packages (from sqlalchemy->birdseye) (2.0.2)\n",
            "Requirement already satisfied: MarkupSafe>=2.0 in /usr/local/lib/python3.10/dist-packages (from Jinja2>=3.0->Flask->birdseye) (2.1.2)\n",
            "Requirement already satisfied: urllib3<1.27,>=1.21.1 in /usr/local/lib/python3.10/dist-packages (from requests->outdated->birdseye) (1.26.15)\n",
            "Requirement already satisfied: certifi>=2017.4.17 in /usr/local/lib/python3.10/dist-packages (from requests->outdated->birdseye) (2022.12.7)\n",
            "Requirement already satisfied: charset-normalizer~=2.0.0 in /usr/local/lib/python3.10/dist-packages (from requests->outdated->birdseye) (2.0.12)\n",
            "Requirement already satisfied: idna<4,>=2.5 in /usr/local/lib/python3.10/dist-packages (from requests->outdated->birdseye) (3.4)\n",
            "Building wheels for collected packages: littleutils, flask-humanize\n",
            "  Building wheel for littleutils (setup.py) ... \u001b[?25l\u001b[?25hdone\n",
            "  Created wheel for littleutils: filename=littleutils-0.2.2-py3-none-any.whl size=7029 sha256=5addb5de3ea592f236d5f1d4b6950529c5c7107e64a1441a502a2af0818e2515\n",
            "  Stored in directory: /root/.cache/pip/wheels/3d/fe/b0/27a9892da57472e538c7452a721a9cf463cc03cf7379889266\n",
            "  Building wheel for flask-humanize (setup.py) ... \u001b[?25l\u001b[?25hdone\n",
            "  Created wheel for flask-humanize: filename=Flask_Humanize-0.3.0-py3-none-any.whl size=3642 sha256=543971c6801d9012ffc6830b074cc295804b580d082371887fc4516d90253c4c\n",
            "  Stored in directory: /root/.cache/pip/wheels/e9/35/fc/0c52dc6188b71c4f57b8c709e74337a679a3a20ad92455f369\n",
            "Successfully built littleutils flask-humanize\n",
            "Installing collected packages: littleutils, cheap-repr, asttokens, outdated, flask-humanize, birdseye\n",
            "Successfully installed asttokens-2.2.1 birdseye-0.9.4 cheap-repr-0.5.1 flask-humanize-0.3.0 littleutils-0.2.2 outdated-0.2.2\n"
          ]
        }
      ]
    },
    {
      "cell_type": "code",
      "source": [
        "from birdseye import eye"
      ],
      "metadata": {
        "id": "xVqCzX3Geusu"
      },
      "execution_count": null,
      "outputs": []
    },
    {
      "cell_type": "code",
      "source": [
        "app=Flask(__name__)\n",
        "@eye\n",
        "@app.route(\"/temp\")\n",
        "def hello_world():\n",
        "    return \"hello, world!!!!\"\n",
        "if __name__==\"__main__\":\n",
        "    app.run()    \n"
      ],
      "metadata": {
        "colab": {
          "base_uri": "https://localhost:8080/"
        },
        "id": "CFBbCBdLe2RB",
        "outputId": "2ffcebfa-fc69-4258-9ecc-7aa9aa866f28"
      },
      "execution_count": null,
      "outputs": [
        {
          "output_type": "stream",
          "name": "stdout",
          "text": [
            " * Serving Flask app '__main__'\n",
            " * Debug mode: off\n"
          ]
        },
        {
          "output_type": "stream",
          "name": "stderr",
          "text": [
            "INFO:werkzeug:\u001b[31m\u001b[1mWARNING: This is a development server. Do not use it in a production deployment. Use a production WSGI server instead.\u001b[0m\n",
            " * Running on http://127.0.0.1:5000\n",
            "INFO:werkzeug:\u001b[33mPress CTRL+C to quit\u001b[0m\n"
          ]
        }
      ]
    },
    {
      "cell_type": "code",
      "source": [
        "pip install snoop"
      ],
      "metadata": {
        "colab": {
          "base_uri": "https://localhost:8080/"
        },
        "id": "auBzTi09fca_",
        "outputId": "02165f73-7c18-4264-e03d-cd15187fd4b6"
      },
      "execution_count": null,
      "outputs": [
        {
          "output_type": "stream",
          "name": "stdout",
          "text": [
            "Looking in indexes: https://pypi.org/simple, https://us-python.pkg.dev/colab-wheels/public/simple/\n",
            "Collecting snoop\n",
            "  Downloading snoop-0.4.3-py2.py3-none-any.whl (27 kB)\n",
            "Requirement already satisfied: six in /usr/local/lib/python3.10/dist-packages (from snoop) (1.16.0)\n",
            "Requirement already satisfied: cheap-repr>=0.4.0 in /usr/local/lib/python3.10/dist-packages (from snoop) (0.5.1)\n",
            "Collecting executing (from snoop)\n",
            "  Downloading executing-1.2.0-py2.py3-none-any.whl (24 kB)\n",
            "Requirement already satisfied: asttokens in /usr/local/lib/python3.10/dist-packages (from snoop) (2.2.1)\n",
            "Requirement already satisfied: pygments in /usr/local/lib/python3.10/dist-packages (from snoop) (2.14.0)\n",
            "Installing collected packages: executing, snoop\n",
            "Successfully installed executing-1.2.0 snoop-0.4.3\n"
          ]
        }
      ]
    },
    {
      "cell_type": "code",
      "source": [
        "import snoop\n",
        "@snoop\n",
        "def bubble_sort(arr):\n",
        "    n = len(arr)\n",
        "    swapped = True\n",
        "    while swapped:\n",
        "        swapped = False\n",
        "        for j in range(0,n-1):\n",
        "            if arr[j]>arr[j+1]:\n",
        "                arr[j],arr[j+1] = arr[j+1], arr[j]\n",
        "                swapped = True\n",
        "    return arr\n",
        "arr=[2,34,1,33,6,1]\n",
        "print(bubble_sort(arr))"
      ],
      "metadata": {
        "colab": {
          "base_uri": "https://localhost:8080/"
        },
        "id": "7AszKWDmgE5U",
        "outputId": "5143cb01-a1e0-47cd-a107-b2f24c71613f"
      },
      "execution_count": null,
      "outputs": [
        {
          "output_type": "stream",
          "name": "stderr",
          "text": [
            "05:10:14.14 >>> Call to bubble_sort in File \"<ipython-input-16-5ffa1232d13d>\", line 3\n",
            "05:10:14.14 ...... arr = [2, 34, 1, 33, 6, 1]\n",
            "05:10:14.14 ...... len(arr) = 6\n",
            "05:10:14.14    3 | def bubble_sort(arr):\n",
            "05:10:14.14    4 |     n = len(arr)\n",
            "05:10:14.15 .......... n = 6\n",
            "05:10:14.15    5 |     swapped = True\n",
            "05:10:14.15    6 |     while swapped:\n",
            "05:10:14.15    7 |         swapped = False\n",
            "05:10:14.15    8 |         for j in range(0,n-1):\n",
            "05:10:14.15 .............. j = 0\n",
            "05:10:14.15    9 |             if arr[j]>arr[j+1]:\n",
            "05:10:14.15    8 |         for j in range(0,n-1):\n",
            "05:10:14.16 .............. j = 1\n",
            "05:10:14.16    9 |             if arr[j]>arr[j+1]:\n",
            "05:10:14.16   10 |                 arr[j],arr[j+1] = arr[j+1], arr[j]\n",
            "05:10:14.16 ...................... arr = [2, 1, 34, 33, 6, 1]\n",
            "05:10:14.16   11 |                 swapped = True\n",
            "05:10:14.16    8 |         for j in range(0,n-1):\n",
            "05:10:14.16 .............. j = 2\n",
            "05:10:14.16    9 |             if arr[j]>arr[j+1]:\n",
            "05:10:14.16   10 |                 arr[j],arr[j+1] = arr[j+1], arr[j]\n",
            "05:10:14.16 ...................... arr = [2, 1, 33, 34, 6, 1]\n",
            "05:10:14.16   11 |                 swapped = True\n",
            "05:10:14.16    8 |         for j in range(0,n-1):\n",
            "05:10:14.17 .............. j = 3\n",
            "05:10:14.17    9 |             if arr[j]>arr[j+1]:\n",
            "05:10:14.17   10 |                 arr[j],arr[j+1] = arr[j+1], arr[j]\n",
            "05:10:14.17 ...................... arr = [2, 1, 33, 6, 34, 1]\n",
            "05:10:14.17   11 |                 swapped = True\n",
            "05:10:14.17    8 |         for j in range(0,n-1):\n",
            "05:10:14.17 .............. j = 4\n",
            "05:10:14.17    9 |             if arr[j]>arr[j+1]:\n",
            "05:10:14.17   10 |                 arr[j],arr[j+1] = arr[j+1], arr[j]\n",
            "05:10:14.17 ...................... arr = [2, 1, 33, 6, 1, 34]\n",
            "05:10:14.17   11 |                 swapped = True\n",
            "05:10:14.17    8 |         for j in range(0,n-1):\n",
            "05:10:14.18    6 |     while swapped:\n",
            "05:10:14.18    7 |         swapped = False\n",
            "05:10:14.18    8 |         for j in range(0,n-1):\n",
            "05:10:14.18 .............. j = 0\n",
            "05:10:14.18    9 |             if arr[j]>arr[j+1]:\n",
            "05:10:14.18   10 |                 arr[j],arr[j+1] = arr[j+1], arr[j]\n",
            "05:10:14.18 ...................... arr = [1, 2, 33, 6, 1, 34]\n",
            "05:10:14.18   11 |                 swapped = True\n",
            "05:10:14.18    8 |         for j in range(0,n-1):\n",
            "05:10:14.19 .............. j = 1\n",
            "05:10:14.19    9 |             if arr[j]>arr[j+1]:\n",
            "05:10:14.19    8 |         for j in range(0,n-1):\n",
            "05:10:14.19 .............. j = 2\n",
            "05:10:14.19    9 |             if arr[j]>arr[j+1]:\n",
            "05:10:14.19   10 |                 arr[j],arr[j+1] = arr[j+1], arr[j]\n",
            "05:10:14.19 ...................... arr = [1, 2, 6, 33, 1, 34]\n",
            "05:10:14.19   11 |                 swapped = True\n",
            "05:10:14.19    8 |         for j in range(0,n-1):\n",
            "05:10:14.19 .............. j = 3\n",
            "05:10:14.19    9 |             if arr[j]>arr[j+1]:\n",
            "05:10:14.19   10 |                 arr[j],arr[j+1] = arr[j+1], arr[j]\n",
            "05:10:14.19 ...................... arr = [1, 2, 6, 1, 33, 34]\n",
            "05:10:14.19   11 |                 swapped = True\n",
            "05:10:14.20    8 |         for j in range(0,n-1):\n",
            "05:10:14.20 .............. j = 4\n",
            "05:10:14.20    9 |             if arr[j]>arr[j+1]:\n",
            "05:10:14.20    8 |         for j in range(0,n-1):\n",
            "05:10:14.20    6 |     while swapped:\n",
            "05:10:14.20    7 |         swapped = False\n",
            "05:10:14.20    8 |         for j in range(0,n-1):\n",
            "05:10:14.20 .............. j = 0\n",
            "05:10:14.20    9 |             if arr[j]>arr[j+1]:\n",
            "05:10:14.20    8 |         for j in range(0,n-1):\n",
            "05:10:14.20 .............. j = 1\n",
            "05:10:14.20    9 |             if arr[j]>arr[j+1]:\n",
            "05:10:14.21    8 |         for j in range(0,n-1):\n",
            "05:10:14.21 .............. j = 2\n",
            "05:10:14.21    9 |             if arr[j]>arr[j+1]:\n",
            "05:10:14.21   10 |                 arr[j],arr[j+1] = arr[j+1], arr[j]\n",
            "05:10:14.21 ...................... arr = [1, 2, 1, 6, 33, 34]\n",
            "05:10:14.21   11 |                 swapped = True\n",
            "05:10:14.21    8 |         for j in range(0,n-1):\n",
            "05:10:14.21 .............. j = 3\n",
            "05:10:14.21    9 |             if arr[j]>arr[j+1]:\n",
            "05:10:14.21    8 |         for j in range(0,n-1):\n",
            "05:10:14.21 .............. j = 4\n",
            "05:10:14.21    9 |             if arr[j]>arr[j+1]:\n",
            "05:10:14.22    8 |         for j in range(0,n-1):\n",
            "05:10:14.22    6 |     while swapped:\n",
            "05:10:14.22    7 |         swapped = False\n",
            "05:10:14.22    8 |         for j in range(0,n-1):\n",
            "05:10:14.22 .............. j = 0\n",
            "05:10:14.22    9 |             if arr[j]>arr[j+1]:\n",
            "05:10:14.22    8 |         for j in range(0,n-1):\n",
            "05:10:14.22 .............. j = 1\n",
            "05:10:14.22    9 |             if arr[j]>arr[j+1]:\n",
            "05:10:14.22   10 |                 arr[j],arr[j+1] = arr[j+1], arr[j]\n",
            "05:10:14.23 ...................... arr = [1, 1, 2, 6, 33, 34]\n",
            "05:10:14.23   11 |                 swapped = True\n",
            "05:10:14.23    8 |         for j in range(0,n-1):\n",
            "05:10:14.23 .............. j = 2\n",
            "05:10:14.23    9 |             if arr[j]>arr[j+1]:\n",
            "05:10:14.23    8 |         for j in range(0,n-1):\n",
            "05:10:14.23 .............. j = 3\n",
            "05:10:14.23    9 |             if arr[j]>arr[j+1]:\n",
            "05:10:14.23    8 |         for j in range(0,n-1):\n",
            "05:10:14.23 .............. j = 4\n",
            "05:10:14.23    9 |             if arr[j]>arr[j+1]:\n",
            "05:10:14.23    8 |         for j in range(0,n-1):\n",
            "05:10:14.24    6 |     while swapped:\n",
            "05:10:14.24    7 |         swapped = False\n",
            "05:10:14.24    8 |         for j in range(0,n-1):\n",
            "05:10:14.24 .............. j = 0\n",
            "05:10:14.24    9 |             if arr[j]>arr[j+1]:\n",
            "05:10:14.24    8 |         for j in range(0,n-1):\n",
            "05:10:14.24 .............. j = 1\n",
            "05:10:14.24    9 |             if arr[j]>arr[j+1]:\n",
            "05:10:14.24    8 |         for j in range(0,n-1):\n",
            "05:10:14.24 .............. j = 2\n",
            "05:10:14.24    9 |             if arr[j]>arr[j+1]:\n",
            "05:10:14.25    8 |         for j in range(0,n-1):\n",
            "05:10:14.25 .............. j = 3\n",
            "05:10:14.25    9 |             if arr[j]>arr[j+1]:\n",
            "05:10:14.25    8 |         for j in range(0,n-1):\n",
            "05:10:14.25 .............. j = 4\n",
            "05:10:14.25    9 |             if arr[j]>arr[j+1]:\n",
            "05:10:14.25    8 |         for j in range(0,n-1):\n",
            "05:10:14.25    6 |     while swapped:\n",
            "05:10:14.25   12 |     return arr\n",
            "05:10:14.26 <<< Return value from bubble_sort: [1, 1, 2, 6, 33, 34]\n"
          ]
        },
        {
          "output_type": "stream",
          "name": "stdout",
          "text": [
            "[1, 1, 2, 6, 33, 34]\n"
          ]
        }
      ]
    },
    {
      "cell_type": "code",
      "source": [
        "def mergesort(arr):\n",
        "    if len(arr)==1:\n",
        "      return arr\n",
        "      #divide the array in 2 half\n",
        "    mid=len(arr)//2\n",
        "    left_half=arr[:mid]\n",
        "    right_half=arr[mid:]\n",
        "     #respectively sotring each half\n",
        "    left_sorted=mergesort(left_half)\n",
        "    right_sorted=mergesort(right_half)\n",
        "    #merging halves\n",
        "    i=j=0\n",
        "    result=[]\n",
        "    while i < len(left_sorted) and j<len(right_sorted):\n",
        "        if left_sorted[i]<right_sorted[j]:\n",
        "            result.append(left_sorted[i])\n",
        "            i=i+1\n",
        "        else:\n",
        "           result.append(right_sorted[j])\n",
        "           j+=1\n",
        "    result +=left_sorted[i:]\n",
        "    result +=right_sorted[j:]\n",
        "    return result\n",
        "print(mergesort([3,5,2,6,34]))               \n",
        "\n"
      ],
      "metadata": {
        "colab": {
          "base_uri": "https://localhost:8080/"
        },
        "id": "gq0YgXxAgRv9",
        "outputId": "1716d91c-5f20-4b14-93b0-43e8bbb6d1d5"
      },
      "execution_count": null,
      "outputs": [
        {
          "output_type": "stream",
          "name": "stdout",
          "text": [
            "[2, 3, 5, 6, 34]\n"
          ]
        }
      ]
    },
    {
      "cell_type": "code",
      "source": [
        "def main():\n",
        "    name=input(\"Enter your name:\")\n",
        "    reversed_name=name[::-1]\n",
        "    print(f\"reversed name is {reversed_name}\")\n",
        "    result=calculate_sum(5,10)\n",
        "    print(\"result\",result)\n",
        "def calculate_sum(a,b):\n",
        "    return a+b \n",
        "\n",
        "if __name__ == \"__main__\":\n",
        "    print(\"which line\")\n",
        "    main()\n",
        "if __name__ == \"__main__\":\n",
        "    print(\"which line\")\n",
        "    main()    "
      ],
      "metadata": {
        "colab": {
          "base_uri": "https://localhost:8080/"
        },
        "id": "4BgTxFZCtg2m",
        "outputId": "169750f6-d25b-436e-e9c4-d398cbd8096a"
      },
      "execution_count": null,
      "outputs": [
        {
          "output_type": "stream",
          "name": "stdout",
          "text": [
            "which line\n",
            "Enter your name:vishu\n",
            "reversed name is uhsiv\n",
            "result 15\n",
            "which line\n",
            "Enter your name:rukmini\n",
            "reversed name is inimkur\n",
            "result 15\n"
          ]
        }
      ]
    },
    {
      "cell_type": "code",
      "source": [
        "def main():\n",
        "    name=input(\"Enter your name:\")\n",
        "    reversed_name=name[::-1]\n",
        "    print(f\"reversed name is {reversed_name}\")\n",
        "if __name__ == \"__main__\":\n",
        "    main()    "
      ],
      "metadata": {
        "colab": {
          "base_uri": "https://localhost:8080/"
        },
        "id": "EZS7QhnMznES",
        "outputId": "d4b6aab2-f9b6-4de0-fe46-c4ee49983342"
      },
      "execution_count": null,
      "outputs": [
        {
          "output_type": "stream",
          "name": "stdout",
          "text": [
            "Enter your name:Shashi\n",
            "reversed name is ihsahS\n"
          ]
        }
      ]
    },
    {
      "cell_type": "code",
      "source": [
        "class Book:\n",
        "\n",
        "  def __init__(self,title,pages,author,price:int) -> None:\n",
        "      self.title=title\n",
        "      self.pages=pages\n",
        "      self.author=author\n",
        "      self.price=price\n",
        "  def display(self):\n",
        "      print(\"title is %s \\n pages %d \\n price is %d\\n\" %(self.title,self.pages,self.price))\n",
        "  def __str__(self) -> str:\n",
        "      return \"title is %s \\n pages %d \\n price is %d\\n\" %(self.title,self.pages,self.price)\n",
        "  def __eq__(self,value):\n",
        "      if not isinstance(value,Book):\n",
        "          raise TypeError(f\"{value} is not the instance of Book\")\n",
        "      else:\n",
        "          return self.title==value.title and self.author==value.author\n",
        "  #return the title\n",
        "  def getTitle(self):\n",
        "      return self.title\n",
        "  def setTitle(self,newTitle):\n",
        "      self.title=newTitle\n",
        "if __name__==\"__main__\":\n",
        "    b1=Book(\"The Lost of Magic Temple\",99,\"SudhaMurthy\",10)\n",
        "    b2=Book(\"Ten Thousand Stitches\",299,\"SudhaMurthy\",10)\n",
        "    if b1==b2:\n",
        "       print(\"Same Book\")\n",
        "    print(b1)\n",
        "    b1.setTitle(\"HarryPotter\")\n",
        "    print(b1)  \n",
        "    print(type(b1))\n",
        "    print(b1.__class__.__name__)\n",
        "    #print(b1._Book__secret)\n",
        "    #private variable in python\n",
        "    b1._Book__secret=\"test\"\n",
        "    print(b1._Book__secret)\n",
        "    #delete attribute of an object\n",
        "    del b1.pages\n",
        "    \n",
        "\n"
      ],
      "metadata": {
        "colab": {
          "base_uri": "https://localhost:8080/"
        },
        "id": "cU2bqiJX0m38",
        "outputId": "61d0e365-bfb2-4135-a25a-552571cf3af0"
      },
      "execution_count": null,
      "outputs": [
        {
          "output_type": "stream",
          "name": "stdout",
          "text": [
            "title is The Lost of Magic Temple \n",
            " pages 99 \n",
            " price is 10\n",
            "\n",
            "title is HarryPotter \n",
            " pages 99 \n",
            " price is 10\n",
            "\n",
            "<class '__main__.Book'>\n",
            "Book\n",
            "test\n"
          ]
        }
      ]
    },
    {
      "cell_type": "code",
      "source": [
        "#inheritance\n",
        "class Book:\n",
        "    def __init__(self,title):\n",
        "        self.title=title\n",
        "class Newspaper:\n",
        "    def __init__(self,name):\n",
        "        self.name=name\n",
        "b1=Book(\"The catcher in eye\")\n",
        "b2=Book(\"the grape of warth\")\n",
        "n1=Newspaper(\"The washington post\")\n",
        "n2=Newspaper(\"the new york times\")\n",
        "print(type(b1))\n",
        "print(type(b2))\n",
        "print(type(n1)==type(n2))\n",
        "print(isinstance(n2,object))\n",
        "                  "
      ],
      "metadata": {
        "colab": {
          "base_uri": "https://localhost:8080/"
        },
        "id": "9Dzv8G4NCJBq",
        "outputId": "5c340d03-58ad-4d34-e155-794e647142ca"
      },
      "execution_count": null,
      "outputs": [
        {
          "output_type": "stream",
          "name": "stdout",
          "text": [
            "<class '__main__.Book'>\n",
            "<class '__main__.Book'>\n",
            "True\n",
            "True\n"
          ]
        }
      ]
    },
    {
      "cell_type": "code",
      "source": [
        "class vehicle:\n",
        "    def __init__(self,brand,color):\n",
        "        self.brand=brand\n",
        "        self.color=color\n",
        "    def accelerate(self):\n",
        "        print(f\"the {self.color} {self.brand} is acceelerating\")\n",
        "    def brake(self):\n",
        "        print(f\"the {self.color} {self.brand} is braking\") \n",
        "  #parent of car is vehicle\n",
        "class car(vehicle):\n",
        "    def __init__(self,brand,color,doors):\n",
        "        super().__init__(brand,color)\n",
        "        self.doors=doors\n",
        "    def honk(self):\n",
        "        print(f\"The ${self.color} ${self.brand} is honking horn\") \n",
        "class Motorcycle(vehicle):\n",
        "    def __init__(self,brand,color):\n",
        "        super().__init__(brand,color)    \n",
        "    def wheelie(self):\n",
        "        print(f\"The ${self.color} ${self.brand} is popping a wheelie\")\n",
        "mycar=car(\"Toyota\",\"red\",4)\n",
        "mymotorcycle=Motorcycle(\"Harley\",\"black\")\n",
        "\n",
        "#these would call base class methods\n",
        "mycar.accelerate()\n",
        "mycar.brake()\n",
        "\n",
        "#derived class method would be called\n",
        "mycar.honk()\n",
        "mymotorcycle.wheelie()\n",
        "\n"
      ],
      "metadata": {
        "colab": {
          "base_uri": "https://localhost:8080/"
        },
        "id": "7qR3ysZ3WR6E",
        "outputId": "cb12fb63-788f-4a64-e7ae-00104e3faa0d"
      },
      "execution_count": null,
      "outputs": [
        {
          "output_type": "stream",
          "name": "stdout",
          "text": [
            "the red Toyota is acceelerating\n",
            "the red Toyota is braking\n",
            "The $red $Toyota is honking horn\n",
            "The $black $Harley is popping a wheelie\n"
          ]
        }
      ]
    },
    {
      "cell_type": "markdown",
      "source": [
        "MULTIPLE INHERITANCE"
      ],
      "metadata": {
        "id": "tQ6Gc1pSgesg"
      }
    },
    {
      "cell_type": "code",
      "source": [
        "class Animal:\n",
        "    def __init__(self,name):\n",
        "        self.name=name\n",
        "    def eat(self):\n",
        "        print(f\"{self.name} is eating\")\n",
        "class canFly:\n",
        "    def fly(self):\n",
        "        print(f\"{self.name} is flying\")\n",
        "class CanSwim:\n",
        "    def swim(self):\n",
        "        print(\"f{self.name} is swimming\")\n",
        "#mutliple inheritance\n",
        "class Duck(Animal,CanSwim,canFly):\n",
        "    def __init__(self,name):\n",
        "        super().__init__(name)\n",
        "class Penquin(Animal,CanSwim):\n",
        "    def __init__(self,name):\n",
        "        super().__init__(name)\n",
        "\n",
        "donald=Duck(\"Donald\")\n",
        "pingu=Penquin(\"penqu\")\n",
        "\n",
        "donald.eat()\n",
        "donald.fly()\n",
        "donald.swim()\n",
        "\n",
        "pingu.eat()\n",
        "pingu.swim()\n"
      ],
      "metadata": {
        "colab": {
          "base_uri": "https://localhost:8080/"
        },
        "id": "03QvzxM5gjd8",
        "outputId": "737830a9-bb0c-4c17-f9f5-1677edf614ad"
      },
      "execution_count": null,
      "outputs": [
        {
          "output_type": "stream",
          "name": "stdout",
          "text": [
            "Donald is eating\n",
            "Donald is flying\n",
            "f{self.name} is swimming\n",
            "penqu is eating\n",
            "f{self.name} is swimming\n"
          ]
        }
      ]
    },
    {
      "cell_type": "markdown",
      "source": [
        "Lambda: anonymoua function small and consise, does not require name lamba arguments"
      ],
      "metadata": {
        "id": "S1nEtxL70-l2"
      }
    },
    {
      "cell_type": "code",
      "source": [
        "add = lambda x,y:x+y\n",
        "result=add(5,4)\n",
        "print(result)"
      ],
      "metadata": {
        "colab": {
          "base_uri": "https://localhost:8080/"
        },
        "id": "8cnm7XZE1Toc",
        "outputId": "ae6e4611-5226-44fa-a17d-215b90d391fc"
      },
      "execution_count": null,
      "outputs": [
        {
          "output_type": "stream",
          "name": "stdout",
          "text": [
            "9\n"
          ]
        }
      ]
    },
    {
      "cell_type": "code",
      "source": [
        "number=[1,2,3,4,5,6,7,8,9,10]\n",
        "even_numbers=list(filter(lambda x :x %2 ==0 , number))\n",
        "print(even_numbers)"
      ],
      "metadata": {
        "colab": {
          "base_uri": "https://localhost:8080/"
        },
        "id": "9ruP9ARo1eJy",
        "outputId": "e31488c2-c87c-4949-cc39-73799a816bcf"
      },
      "execution_count": null,
      "outputs": [
        {
          "output_type": "stream",
          "name": "stdout",
          "text": [
            "[2, 4, 6, 8, 10]\n"
          ]
        }
      ]
    },
    {
      "cell_type": "code",
      "source": [
        "students=[('Alice',90),('Bob',85),('Charlie',92),('David',88)]\n",
        "students.sort(key=lambda x: x[1])\n",
        "print(students)"
      ],
      "metadata": {
        "colab": {
          "base_uri": "https://localhost:8080/"
        },
        "id": "bMGQuTJS19EP",
        "outputId": "d75f5026-ca74-4ff5-d623-c96df97b9c50"
      },
      "execution_count": null,
      "outputs": [
        {
          "output_type": "stream",
          "name": "stdout",
          "text": [
            "[('Bob', 85), ('David', 88), ('Alice', 90), ('Charlie', 92)]\n"
          ]
        }
      ]
    },
    {
      "cell_type": "code",
      "source": [
        "numbers=[1,2,3,4,5]\n",
        "squared_numbers=list(map(lambda x: x**2 , numbers))\n",
        "print(squared_numbers)"
      ],
      "metadata": {
        "colab": {
          "base_uri": "https://localhost:8080/"
        },
        "id": "To0gcsDe2hSL",
        "outputId": "e0cc331d-696e-4711-df80-1edc80326be1"
      },
      "execution_count": null,
      "outputs": [
        {
          "output_type": "stream",
          "name": "stdout",
          "text": [
            "[1, 4, 9, 16, 25]\n"
          ]
        }
      ]
    },
    {
      "cell_type": "code",
      "source": [
        "names=[\"Alice\",\"Bob\",\"Charlie\"]\n",
        "ages=[25,32,28]\n",
        "combined=list(zip(names,ages))\n",
        "format=list(map(lambda x: f\"{x[0]} is {x[1]} years old\",combined))\n",
        "print(format)"
      ],
      "metadata": {
        "colab": {
          "base_uri": "https://localhost:8080/"
        },
        "id": "c3RAl3Th20Vb",
        "outputId": "0db5c7d2-7d65-45b7-9781-1819257c97d4"
      },
      "execution_count": null,
      "outputs": [
        {
          "output_type": "stream",
          "name": "stdout",
          "text": [
            "['Alice is 25 years old', 'Bob is 32 years old', 'Charlie is 28 years old']\n"
          ]
        }
      ]
    },
    {
      "cell_type": "code",
      "source": [
        "#pure function\n",
        "def power_function(power):\n",
        "    return lambda x :x** power\n",
        "square=power_function(2)\n",
        "cube=power_function(3)   \n",
        "print(square(5))\n",
        "print(cube(4))"
      ],
      "metadata": {
        "colab": {
          "base_uri": "https://localhost:8080/"
        },
        "id": "e2KKit9S3Vk6",
        "outputId": "6b4c7b75-1bb1-4396-ff76-170f50757843"
      },
      "execution_count": null,
      "outputs": [
        {
          "output_type": "stream",
          "name": "stdout",
          "text": [
            "25\n",
            "64\n"
          ]
        }
      ]
    },
    {
      "cell_type": "code",
      "source": [
        "factorial = lambda n: 1 if n == 0 else n * factorial(n - 1)\n",
        "# Test the factorial function\n",
        "print(factorial(5))  \n",
        "print(factorial(0))  \n",
        "print(factorial(10))  \n",
        "print(factorial(25))\n"
      ],
      "metadata": {
        "colab": {
          "base_uri": "https://localhost:8080/"
        },
        "id": "gAvUKC869xK3",
        "outputId": "72224106-d671-419f-c209-f6b93ae1997b"
      },
      "execution_count": null,
      "outputs": [
        {
          "output_type": "stream",
          "name": "stdout",
          "text": [
            "120\n",
            "1\n",
            "3628800\n",
            "15511210043330985984000000\n"
          ]
        }
      ]
    },
    {
      "cell_type": "code",
      "source": [
        "multiply_numbers = lambda x,y:x*y\n",
        "result = multiply_numbers(5, 3)\n",
        "print(result)\n"
      ],
      "metadata": {
        "colab": {
          "base_uri": "https://localhost:8080/"
        },
        "id": "7Yb_xbxA-jNh",
        "outputId": "f6c0a69b-8368-40c2-b05f-e2e064881b45"
      },
      "execution_count": null,
      "outputs": [
        {
          "output_type": "stream",
          "name": "stdout",
          "text": [
            "15\n"
          ]
        }
      ]
    },
    {
      "cell_type": "code",
      "source": [
        "students=[('Charlie',92),('David',88),('Alice',90),('Bob',85)]\n",
        "students.sort(key=lambda x: x[0])\n",
        "print(students)"
      ],
      "metadata": {
        "colab": {
          "base_uri": "https://localhost:8080/"
        },
        "outputId": "25274d64-dc78-4a27-99e0-987f409d557b",
        "id": "FW2w0-jeANqT"
      },
      "execution_count": null,
      "outputs": [
        {
          "output_type": "stream",
          "name": "stdout",
          "text": [
            "[('Alice', 90), ('Bob', 85), ('Charlie', 92), ('David', 88)]\n"
          ]
        }
      ]
    },
    {
      "cell_type": "code",
      "source": [],
      "metadata": {
        "id": "XwGJzTlkAP5q"
      },
      "execution_count": null,
      "outputs": []
    },
    {
      "cell_type": "markdown",
      "source": [
        "static- which is fixed cannot be changed will be defined in static method\n",
        "Static methods belong to the class rather than to an instance of the class. They can be called directly on the class itself, without the need for an instance."
      ],
      "metadata": {
        "id": "ApdnGPZyAu7V"
      }
    },
    {
      "cell_type": "code",
      "source": [
        "class MyClass:\n",
        "   @staticmethod\n",
        "   def staticmethod():\n",
        "       print(\"Python was discoverd by Guido van Rossum\")\n",
        "MyClass.staticmethod()       \n"
      ],
      "metadata": {
        "colab": {
          "base_uri": "https://localhost:8080/"
        },
        "id": "RWtzhKLMCJkp",
        "outputId": "ba0c432d-85b9-4e8e-e453-af7567a13997"
      },
      "execution_count": null,
      "outputs": [
        {
          "output_type": "stream",
          "name": "stdout",
          "text": [
            "Python was discoverd by Guido van Rossum\n"
          ]
        }
      ]
    },
    {
      "cell_type": "code",
      "source": [
        "class Calculator:\n",
        "    @staticmethod\n",
        "    def add(x, y):\n",
        "        return x + y\n",
        "\n",
        "    @staticmethod\n",
        "    def subtract(x, y):\n",
        "        return x - y\n",
        "\n",
        "# Using the static methods of the Calculator class\n",
        "result_add = Calculator.add(5, 3)\n",
        "print(\"Addition:\", result_add)  \n",
        "\n",
        "result_subtract = Calculator.subtract(10, 4)\n",
        "print(\"Subtraction:\", result_subtract)  \n"
      ],
      "metadata": {
        "colab": {
          "base_uri": "https://localhost:8080/"
        },
        "id": "66bU3r1JCuSt",
        "outputId": "761066b3-fe12-44af-fc21-8240c153b482"
      },
      "execution_count": null,
      "outputs": [
        {
          "output_type": "stream",
          "name": "stdout",
          "text": [
            "Addition: 8\n",
            "Subtraction: 6\n"
          ]
        }
      ]
    },
    {
      "cell_type": "code",
      "source": [
        "from functools import reduce\n",
        "def factorial(n):\n",
        "    return reduce(lambda x,y: x *y ,range(1,n+1))\n",
        "\n",
        "num=5\n",
        "result=factorial(5)\n",
        "print(result)    "
      ],
      "metadata": {
        "colab": {
          "base_uri": "https://localhost:8080/"
        },
        "id": "69TbxLjyDPgP",
        "outputId": "5f0ba757-d7d7-41cb-8c67-e5b132e3dd6e"
      },
      "execution_count": null,
      "outputs": [
        {
          "output_type": "stream",
          "name": "stdout",
          "text": [
            "120\n"
          ]
        }
      ]
    },
    {
      "cell_type": "code",
      "source": [
        "\n",
        "class MyClass:\n",
        "      count=0\n",
        "      def __init__(self):\n",
        "        MyClass.count+=1\n",
        "      @classmethod\n",
        "      def get_instance_count(cls):\n",
        "          return cls.count\n",
        "obj1=MyClass()\n",
        "obj2=MyClass()\n",
        "obj3=MyClass()\n",
        "cont=MyClass.get_instance_count()\n",
        "print(cont)           "
      ],
      "metadata": {
        "colab": {
          "base_uri": "https://localhost:8080/"
        },
        "id": "sfOp-wjwKR4_",
        "outputId": "881f529b-b804-4df1-dcf5-b882264a235e"
      },
      "execution_count": null,
      "outputs": [
        {
          "output_type": "stream",
          "name": "stdout",
          "text": [
            "3\n"
          ]
        }
      ]
    },
    {
      "cell_type": "code",
      "source": [
        "#polymorphism\n",
        "class Animal:\n",
        "    def sound(self):\n",
        "        print(\"the animal makes the sound\")\n",
        "\n",
        "class Dog(Animal):\n",
        "    def sound(self):\n",
        "        print(\"the dog barcks\")\n",
        "\n",
        "class Cat(Animal):\n",
        "    def sound(Animal):\n",
        "        print(\"The cat says meow\")\n",
        "animals = [Dog(),Cat()]\n",
        "\n",
        "for animal in animals:\n",
        "    animal.sound()        \n"
      ],
      "metadata": {
        "colab": {
          "base_uri": "https://localhost:8080/"
        },
        "id": "B-gspK0VTSBT",
        "outputId": "a184aabc-523b-4e95-b198-d5ec4f48d40f"
      },
      "execution_count": null,
      "outputs": [
        {
          "output_type": "stream",
          "name": "stdout",
          "text": [
            "the dog barcks\n",
            "The cat says meow\n"
          ]
        }
      ]
    },
    {
      "cell_type": "code",
      "source": [
        "class A:\n",
        "    def foo(self):\n",
        "        print(\"A is foo\")\n",
        "class B(A):\n",
        "    def foo(self):\n",
        "        print(\"B is foo\")\n",
        "class C(A):\n",
        "    def foo(self):\n",
        "        print(\"C is foo\")  \n",
        "class D(B,C):\n",
        "    def foo(self):\n",
        "      pass   \n",
        "obj = A()\n",
        "obj.foo()           \n",
        "#Python program that demonstrates Method Resolution Order (MRO) using multiple inheritance:\n",
        "        \n",
        "                "
      ],
      "metadata": {
        "colab": {
          "base_uri": "https://localhost:8080/"
        },
        "id": "IV15l1kK0HnY",
        "outputId": "36f4fe49-8824-4152-8dc0-aa4dc3a40740"
      },
      "execution_count": null,
      "outputs": [
        {
          "output_type": "stream",
          "name": "stdout",
          "text": [
            "A is foo\n"
          ]
        }
      ]
    },
    {
      "cell_type": "code",
      "source": [
        "def divide_numbers(a, b):\n",
        "    try:\n",
        "        result = a / b\n",
        "        print(\"Division result:\", result)\n",
        "    except ZeroDivisionError:\n",
        "        print(\"Error: Division by zero is not allowed.\")\n",
        "    except TypeError:\n",
        "        print(\"Error: Invalid operand type.\")\n",
        "    except Exception as e:\n",
        "        print(\"An error occurred:\", str(e))\n",
        "    finally:\n",
        "        print(\"End of divide_numbers function.\")\n",
        "divide_numbers(10,10)    "
      ],
      "metadata": {
        "colab": {
          "base_uri": "https://localhost:8080/"
        },
        "id": "YmVIwxMe05wO",
        "outputId": "8628bdeb-49e7-4e31-ad9c-dffa305ad565"
      },
      "execution_count": null,
      "outputs": [
        {
          "output_type": "stream",
          "name": "stdout",
          "text": [
            "Division result: 1.0\n",
            "End of divide_numbers function.\n"
          ]
        }
      ]
    },
    {
      "cell_type": "markdown",
      "source": [
        "method overloading- a method with different set of parameter\n",
        "method overloading is a concept where a class can have multiple methods with the same name but different parameters. It allows a class to provide different implementations of a method based on the types and/or number of arguments provided."
      ],
      "metadata": {
        "id": "MpkAvGpr6rpN"
      }
    },
    {
      "cell_type": "code",
      "source": [
        "class MathOperation:\n",
        "    def add(self,x,y=None,z=None):\n",
        "        if y is not None and z is not None:\n",
        "            return x+y+z\n",
        "        elif y is not None:\n",
        "            return x+y\n",
        "        else:\n",
        "            return x\n",
        "math_ops=MathOperation()\n",
        "print(math_ops.add(2))\n",
        "print(math_ops.add(2,2))\n",
        "print(math_ops.add(2,2,2))                    "
      ],
      "metadata": {
        "colab": {
          "base_uri": "https://localhost:8080/"
        },
        "id": "9YPN6d404TGU",
        "outputId": "a0a11c76-2ba6-4394-b799-9296be419c2d"
      },
      "execution_count": null,
      "outputs": [
        {
          "output_type": "stream",
          "name": "stdout",
          "text": [
            "2\n",
            "4\n",
            "6\n"
          ]
        }
      ]
    },
    {
      "cell_type": "markdown",
      "source": [
        "Over riding"
      ],
      "metadata": {
        "id": "rMPraZKv_OLf"
      }
    },
    {
      "cell_type": "code",
      "source": [
        "\n",
        "class MathOperation:\n",
        "   def add(self, *args):\n",
        "       return sum(args)\n",
        "class B(MathOperation):\n",
        "   def add(self, *args):\n",
        "       return sum(args)\n",
        "class C(B):\n",
        "   def add(self, *args):\n",
        "       return sum(args)\n",
        "math_ops=B()\n",
        "print(math_ops.add(2))\n",
        "print(math_ops.add(2,2,2))                     "
      ],
      "metadata": {
        "colab": {
          "base_uri": "https://localhost:8080/"
        },
        "id": "QMZbJ09_6mu2",
        "outputId": "f1bc8e29-7b8a-4eaf-a4e3-f0a6e9c80a2c"
      },
      "execution_count": null,
      "outputs": [
        {
          "output_type": "stream",
          "name": "stdout",
          "text": [
            "2\n",
            "6\n"
          ]
        }
      ]
    },
    {
      "cell_type": "code",
      "source": [
        "from multipledispatch import dispatch"
      ],
      "metadata": {
        "id": "cb_TLtj2_JUh"
      },
      "execution_count": null,
      "outputs": []
    },
    {
      "cell_type": "code",
      "source": [
        "class Demo:\n",
        "  @dispatch(int,int)\n",
        "  def product(a,b):\n",
        "      p=a*b\n",
        "      print(p)\n",
        "  @dispatch(int,int,int)\n",
        "  def product(a,b,x):\n",
        "      p=a*b*x\n",
        "      print(p)\n",
        "d=Demo()\n",
        "d.product(4,5)\n",
        "d.product(2,2,2)\n"
      ],
      "metadata": {
        "colab": {
          "base_uri": "https://localhost:8080/"
        },
        "id": "DBTcRNdUAh5i",
        "outputId": "d9859c62-027c-40b8-812c-41bb6f700b57"
      },
      "execution_count": null,
      "outputs": [
        {
          "output_type": "stream",
          "name": "stdout",
          "text": [
            "20\n",
            "8\n"
          ]
        }
      ]
    },
    {
      "cell_type": "code",
      "source": [
        "\n",
        "class Demo:\n",
        "  @dispatch(float,float)\n",
        "  def product(a,b):\n",
        "      p=a*b\n",
        "      print(p)\n",
        "  @dispatch(float,float,float,float)\n",
        "  def product(a,b,x,y):\n",
        "      p=a*b*x*y\n",
        "      print(p)\n",
        "d=Demo()\n",
        "d.product(4.2,5.2)\n",
        "d.product(2.0,2.0,2.0,2.0)\n"
      ],
      "metadata": {
        "colab": {
          "base_uri": "https://localhost:8080/"
        },
        "id": "y2eWIo7qBLgX",
        "outputId": "5e340a26-3448-4a9a-dfb8-190e713782fc"
      },
      "execution_count": null,
      "outputs": [
        {
          "output_type": "stream",
          "name": "stdout",
          "text": [
            "21.840000000000003\n",
            "16.0\n"
          ]
        }
      ]
    },
    {
      "cell_type": "code",
      "source": [
        "class Rectangle:\n",
        "   def __init__(self,length,width):\n",
        "       self.length=length\n",
        "       self.width=width\n",
        "   def area(self):\n",
        "       return self.length*self.width\n",
        "class Square(Rectangle):\n",
        "   def __init__(self,side):\n",
        "       super().__init__(side,side)\n",
        "   def area(self):\n",
        "       return self.length ** 2\n",
        "rectangle=Rectangle(5,3)\n",
        "square=Square(4)\n",
        "print(rectangle.area())\n",
        "print(square.area())                      "
      ],
      "metadata": {
        "colab": {
          "base_uri": "https://localhost:8080/"
        },
        "id": "tt00J9CqD-zP",
        "outputId": "af45e02a-81b6-42f9-ab7f-feeb20d11ea2"
      },
      "execution_count": null,
      "outputs": [
        {
          "output_type": "stream",
          "name": "stdout",
          "text": [
            "15\n",
            "16\n"
          ]
        }
      ]
    },
    {
      "cell_type": "code",
      "source": [
        "from dataclasses import dataclass\n",
        "\n",
        "@dataclass\n",
        "class Person:\n",
        "   name:str\n",
        "   age:int\n",
        "   email:str\n",
        "person1=Person(\"Alice\",25,\"alice@gmail.com\")\n",
        "person2=Person(\"Bob\",25,\"bob2@gmail.com\")\n",
        "print(person1.name)\n",
        "print(person1.age)\n",
        "print(person1.email) \n",
        "print(person2.name)  \n",
        "print(person2.age)\n",
        "print(person2.email)"
      ],
      "metadata": {
        "colab": {
          "base_uri": "https://localhost:8080/"
        },
        "id": "GzM8DfnoIMS0",
        "outputId": "b04fe371-a0b5-49ff-8489-fc30be4c4ae1"
      },
      "execution_count": null,
      "outputs": [
        {
          "output_type": "stream",
          "name": "stdout",
          "text": [
            "Alice\n",
            "25\n",
            "alice@gmail.com\n",
            "Bob\n",
            "25\n",
            "bob2@gmail.com\n"
          ]
        }
      ]
    },
    {
      "cell_type": "code",
      "source": [
        "from dataclasses import dataclass\n",
        "from typing import List"
      ],
      "metadata": {
        "id": "BpIhfmAzL_GB"
      },
      "execution_count": null,
      "outputs": []
    },
    {
      "cell_type": "code",
      "source": [
        "dataclass(order=True)\n",
        "class Person:\n",
        "   name:str\n",
        "   age:int\n",
        "   email:str\n",
        "   hobbies:List[str]=None\n",
        "person1=Person(\"Alice\",92,\"alice@gmail.com\",[\"reading\",\"singing\"])\n",
        "person2=Person(\"Bob\",92,\"bob@gmail.com\",[\"reading\",\"painting\"])\n",
        "print(person1.name)\n",
        "print(person2.age)\n",
        "print(person1.age<person2.age)\n",
        "print(person1=person2)\n",
        "person2.hobbies.append(\"playing chess\")\n",
        "print(person1)\n",
        "\n",
        "\n",
        "   "
      ],
      "metadata": {
        "colab": {
          "base_uri": "https://localhost:8080/",
          "height": 235
        },
        "id": "NfXjWa2lRLKe",
        "outputId": "c244a1c9-17bf-4d2e-f99a-b4e3282f65a9"
      },
      "execution_count": null,
      "outputs": [
        {
          "output_type": "error",
          "ename": "TypeError",
          "evalue": "ignored",
          "traceback": [
            "\u001b[0;31m---------------------------------------------------------------------------\u001b[0m",
            "\u001b[0;31mTypeError\u001b[0m                                 Traceback (most recent call last)",
            "\u001b[0;32m<ipython-input-30-7171e1824082>\u001b[0m in \u001b[0;36m<cell line: 7>\u001b[0;34m()\u001b[0m\n\u001b[1;32m      5\u001b[0m    \u001b[0memail\u001b[0m\u001b[0;34m:\u001b[0m\u001b[0mstr\u001b[0m\u001b[0;34m\u001b[0m\u001b[0;34m\u001b[0m\u001b[0m\n\u001b[1;32m      6\u001b[0m    \u001b[0mhobbies\u001b[0m\u001b[0;34m:\u001b[0m\u001b[0mList\u001b[0m\u001b[0;34m[\u001b[0m\u001b[0mstr\u001b[0m\u001b[0;34m]\u001b[0m\u001b[0;34m=\u001b[0m\u001b[0;32mNone\u001b[0m\u001b[0;34m\u001b[0m\u001b[0;34m\u001b[0m\u001b[0m\n\u001b[0;32m----> 7\u001b[0;31m \u001b[0mperson1\u001b[0m\u001b[0;34m=\u001b[0m\u001b[0mPerson\u001b[0m\u001b[0;34m(\u001b[0m\u001b[0;34m\"Alice\"\u001b[0m\u001b[0;34m,\u001b[0m\u001b[0;36m92\u001b[0m\u001b[0;34m,\u001b[0m\u001b[0;34m\"alice@gmail.com\"\u001b[0m\u001b[0;34m,\u001b[0m\u001b[0;34m[\u001b[0m\u001b[0;34m\"reading\"\u001b[0m\u001b[0;34m,\u001b[0m\u001b[0;34m\"singing\"\u001b[0m\u001b[0;34m]\u001b[0m\u001b[0;34m)\u001b[0m\u001b[0;34m\u001b[0m\u001b[0;34m\u001b[0m\u001b[0m\n\u001b[0m\u001b[1;32m      8\u001b[0m \u001b[0mperson2\u001b[0m\u001b[0;34m=\u001b[0m\u001b[0mPerson\u001b[0m\u001b[0;34m(\u001b[0m\u001b[0;34m\"Bob\"\u001b[0m\u001b[0;34m,\u001b[0m\u001b[0;36m92\u001b[0m\u001b[0;34m,\u001b[0m\u001b[0;34m\"bob@gmail.com\"\u001b[0m\u001b[0;34m,\u001b[0m\u001b[0;34m[\u001b[0m\u001b[0;34m\"reading\"\u001b[0m\u001b[0;34m,\u001b[0m\u001b[0;34m\"painting\"\u001b[0m\u001b[0;34m]\u001b[0m\u001b[0;34m)\u001b[0m\u001b[0;34m\u001b[0m\u001b[0;34m\u001b[0m\u001b[0m\n\u001b[1;32m      9\u001b[0m \u001b[0mprint\u001b[0m\u001b[0;34m(\u001b[0m\u001b[0mperson1\u001b[0m\u001b[0;34m.\u001b[0m\u001b[0mname\u001b[0m\u001b[0;34m)\u001b[0m\u001b[0;34m\u001b[0m\u001b[0;34m\u001b[0m\u001b[0m\n",
            "\u001b[0;31mTypeError\u001b[0m: Person() takes no arguments"
          ]
        }
      ]
    },
    {
      "cell_type": "code",
      "source": [
        "try:\n",
        "    num1 = int(input(\"Enter the first number: \"))\n",
        "    num2 = int(input(\"Enter the second number: \"))\n",
        "\n",
        "    result = num1 / num2\n",
        "    print(\"Division result:\", result)\n",
        "\n",
        "except ValueError:\n",
        "    print(\"Error: Invalid input. Please enter integers only.\")\n",
        "except ZeroDivisionError:\n",
        "    print(\"Error: Division by zero is not allowed.\")\n",
        "except Exception as e:\n",
        "    print(\"An error occurred:\", str(e))\n",
        "\n",
        "finally:\n",
        "    print(\"End of the program.\")\n"
      ],
      "metadata": {
        "colab": {
          "base_uri": "https://localhost:8080/"
        },
        "id": "DC0NaiD5S7ST",
        "outputId": "197ec9b5-1267-43e2-ceb5-20885d3d0d0b"
      },
      "execution_count": null,
      "outputs": [
        {
          "output_type": "stream",
          "name": "stdout",
          "text": [
            "Enter the first number: 10\n",
            "Enter the second number: 20\n",
            "Division result: 0.5\n",
            "End of the program.\n"
          ]
        }
      ]
    },
    {
      "cell_type": "code",
      "source": [
        "def divide_numbers(a, b):\n",
        "    try:\n",
        "        result = a / b\n",
        "        print(\"Division result:\", result)\n",
        "    except ZeroDivisionError:\n",
        "        print(\"Error: Division by zero is not allowed.\")\n",
        "    except TypeError:\n",
        "        print(\"Error: Invalid operand type.\")\n",
        "    except Exception as e:\n",
        "        print(\"An error occurred:\", str(e))\n",
        "    finally:\n",
        "        print(\"End of divide_numbers function.\")\n",
        "divide_numbers(10, 2) \n",
        "\n",
        "\n"
      ],
      "metadata": {
        "colab": {
          "base_uri": "https://localhost:8080/"
        },
        "id": "aDRQeXgVa6Gh",
        "outputId": "05cc017b-678e-4722-ba48-990215bb3194"
      },
      "execution_count": null,
      "outputs": [
        {
          "output_type": "stream",
          "name": "stdout",
          "text": [
            "Division result: 5.0\n",
            "End of divide_numbers function.\n"
          ]
        }
      ]
    },
    {
      "cell_type": "code",
      "source": [
        "try:\n",
        "    x=int(input(\"enter number\"))\n",
        "    result=10/x\n",
        "    print(result)\n",
        "except ValueError:\n",
        "    print(\"please enter the number instead of string\")\n",
        "except ZeroDivisionError:\n",
        "    print(\"cannot divide by zero\")\n",
        "except Exception as e:\n",
        "    print(str(e))            "
      ],
      "metadata": {
        "colab": {
          "base_uri": "https://localhost:8080/"
        },
        "id": "Sbqf1zAqbVdM",
        "outputId": "8ec984ea-b85b-48bb-97cf-adef5475b2ad"
      },
      "execution_count": null,
      "outputs": [
        {
          "output_type": "stream",
          "name": "stdout",
          "text": [
            "enter number50\n",
            "0.2\n"
          ]
        }
      ]
    },
    {
      "cell_type": "code",
      "source": [
        "try:\n",
        "    num = 10 / 0\n",
        "except (ZeroDivisionError, ValueError) as e:\n",
        "    print(\"Error:\", str(e))\n"
      ],
      "metadata": {
        "colab": {
          "base_uri": "https://localhost:8080/"
        },
        "id": "wn1_edfEcD-m",
        "outputId": "f1337125-b095-4e97-f267-f854e74dc944"
      },
      "execution_count": null,
      "outputs": [
        {
          "output_type": "stream",
          "name": "stdout",
          "text": [
            "Error: division by zero\n"
          ]
        }
      ]
    },
    {
      "cell_type": "code",
      "source": [
        "def calculate_square_root(num):\n",
        "   if num<0:\n",
        "      raise ValueError(\"cannot calculate square\")\n",
        "   return num **0.5\n",
        "try:\n",
        "    result=calculate_square_root(-4)\n",
        "    print(result)\n",
        "except ValueError as e:\n",
        "    print(\"in except\", e)\n",
        "finally:\n",
        "    print(\"program is on continue code to exit\")        "
      ],
      "metadata": {
        "colab": {
          "base_uri": "https://localhost:8080/"
        },
        "id": "4ESdd1eafUqg",
        "outputId": "c2fce221-70aa-46f5-c8c9-308650d3a481"
      },
      "execution_count": null,
      "outputs": [
        {
          "output_type": "stream",
          "name": "stdout",
          "text": [
            "in except cannot calculate square\n",
            "program is on continue code to exit\n"
          ]
        }
      ]
    },
    {
      "cell_type": "code",
      "source": [
        "#writing my own exception by extending exception class\n",
        "class CustomError(Exception):\n",
        "   pass\n",
        "try:\n",
        "    raise CustomError(\"this is custom exception\")\n",
        "except CustomError as e:\n",
        "    print(\"CustomError \", str(e))       "
      ],
      "metadata": {
        "colab": {
          "base_uri": "https://localhost:8080/"
        },
        "id": "Tnq1WKNjju4f",
        "outputId": "be305078-17ab-42dc-ee4c-6e7721e048c0"
      },
      "execution_count": null,
      "outputs": [
        {
          "output_type": "stream",
          "name": "stdout",
          "text": [
            "CustomError  this is custom exception\n"
          ]
        }
      ]
    },
    {
      "cell_type": "code",
      "source": [
        "try:\n",
        "    with open(\"D:\\\\CodePython\\\\anagrams.csv\",\"r\") as file:\n",
        "        contents = file.read()\n",
        "\n",
        "        print(contents)\n",
        "except FileNotFoundError:\n",
        "    print(\"file not found\")\n",
        "except IOError:\n",
        "    print(\"Error while reading file\")\n"
      ],
      "metadata": {
        "colab": {
          "base_uri": "https://localhost:8080/"
        },
        "id": "VZzKhSxxk2oK",
        "outputId": "bee1e46d-8168-4943-fe59-a941e3ce79cc"
      },
      "execution_count": null,
      "outputs": [
        {
          "output_type": "stream",
          "name": "stdout",
          "text": [
            "file not found\n"
          ]
        }
      ]
    },
    {
      "cell_type": "code",
      "source": [
        "class CustomError(Exception):\n",
        "   pass\n",
        "try:\n",
        "    age = int(input(\"Enter your age: \"))\n",
        "    if age < 0:\n",
        "        raise CustomError(\"Age cannot be negative.\")\n",
        "    elif age < 18:\n",
        "        raise CustomError(\"You must be 18 or older.\")\n",
        "    else:\n",
        "        print(\"Access granted. You are eligible.\")\n",
        "\n",
        "except CustomError as e:\n",
        "    print(\"Custom exception caught:\", str(e))\n",
        "\n",
        "except ValueError:\n",
        "    print(\"Invalid input. Please enter a valid integer.\")"
      ],
      "metadata": {
        "colab": {
          "base_uri": "https://localhost:8080/"
        },
        "id": "wLPvL7HLqYDQ",
        "outputId": "94b29098-1d15-4be0-a9bf-66325de77125"
      },
      "execution_count": null,
      "outputs": [
        {
          "output_type": "stream",
          "name": "stdout",
          "text": [
            "Enter your age: -79\n",
            "Custom exception caught: Age cannot be negative.\n"
          ]
        }
      ]
    },
    {
      "cell_type": "code",
      "source": [
        "import re\n",
        "\n",
        "#Matching a pattern\n",
        "pattern = r\"apple\"\n",
        "text = \"I have an apple and a banana.\"\n",
        "\n",
        "match = re.search(pattern, text)\n",
        "if match:\n",
        "    print(\"Match found:\", match.group())\n",
        "else:\n",
        "    print(\"No match found.\")\n",
        "\n",
        "#Finding multiple matches\n",
        "pattern = r\"\\b\\w+\"\n",
        "text = \"This is a sample text.\"\n",
        "\n",
        "matches = re.findall(pattern, text)\n",
        "print(\"Matches:\", matches)\n",
        "\n",
        "#  Replacing a pattern\n",
        "pattern = r\"apple\"\n",
        "text = \"I have an apple and a banana.\"\n",
        "\n",
        "new_text = re.sub(pattern, \"orange\", text)\n",
        "print(\"New text:\", new_text)\n"
      ],
      "metadata": {
        "colab": {
          "base_uri": "https://localhost:8080/"
        },
        "id": "IuUQcMdV-D8w",
        "outputId": "693357bb-3ff9-42ba-a093-3d4322cae758"
      },
      "execution_count": null,
      "outputs": [
        {
          "output_type": "stream",
          "name": "stdout",
          "text": [
            "Match found: apple\n",
            "Matches: ['This', 'is', 'a', 'sample', 'text']\n",
            "New text: I have an orange and a banana.\n"
          ]
        }
      ]
    },
    {
      "cell_type": "code",
      "source": [
        "print(re.escape(\"This is Awesome even I Am\"))\n",
        "print(re.escape(\"I asked what is this [a-9], he said \\t Wbwb\"))"
      ],
      "metadata": {
        "colab": {
          "base_uri": "https://localhost:8080/"
        },
        "id": "Ut7AAFEi_n6k",
        "outputId": "51525610-0b33-45a5-b816-95df734e347d"
      },
      "execution_count": null,
      "outputs": [
        {
          "output_type": "stream",
          "name": "stdout",
          "text": [
            "This\\ is\\ Awesome\\ even\\ I\\ Am\n",
            "I\\ asked\\ what\\ is\\ this\\ \\[a\\-9\\],\\ he\\ said\\ \\\t\\ Wbwb\n"
          ]
        }
      ]
    },
    {
      "cell_type": "code",
      "source": [
        "re.subn"
      ],
      "metadata": {
        "colab": {
          "base_uri": "https://localhost:8080/"
        },
        "id": "pbLwLzlGCZZ5",
        "outputId": "f499e464-a021-47d3-c86a-8b0927f64f55"
      },
      "execution_count": null,
      "outputs": [
        {
          "output_type": "execute_result",
          "data": {
            "text/plain": [
              "<function re.subn(pattern, repl, string, count=0, flags=0)>"
            ]
          },
          "metadata": {},
          "execution_count": 7
        }
      ]
    },
    {
      "cell_type": "code",
      "source": [
        "import re\n",
        "regex =r\"([a-zA-Z]+)(\\d+)\"\n",
        "match =re.search(regex,\" I wa born on August 13\")\n",
        "if match is not None:\n",
        "   print(\"Match at index %s, %s\" % (match.start(),match.end()))\n",
        "   print(\"Full match: %s %\" (match.group(0)))\n",
        "   print(\"Month: %s\" %(match.group(1)))\n",
        "   print(\"Day: %s\" % (match.group(2)))\n",
        "else:\n",
        "   print(\"the regex pattern does not match\")   \n",
        "\n",
        "   \n",
        "\n"
      ],
      "metadata": {
        "colab": {
          "base_uri": "https://localhost:8080/"
        },
        "id": "ra89zuwZCpbF",
        "outputId": "eb2a433e-3782-4f32-e49d-f645fb2e1e6e"
      },
      "execution_count": null,
      "outputs": [
        {
          "output_type": "stream",
          "name": "stdout",
          "text": [
            "the regex pattern does not match\n"
          ]
        },
        {
          "output_type": "stream",
          "name": "stderr",
          "text": [
            "<>:6: SyntaxWarning: 'str' object is not callable; perhaps you missed a comma?\n",
            "<>:6: SyntaxWarning: 'str' object is not callable; perhaps you missed a comma?\n",
            "<ipython-input-25-4d56fea70b36>:6: SyntaxWarning: 'str' object is not callable; perhaps you missed a comma?\n",
            "  print(\"Full match: %s %\" (match.group(0)))\n"
          ]
        }
      ]
    },
    {
      "cell_type": "code",
      "source": [
        "import re\n",
        "\n",
        "regex = r\"([a-zA-Z]+)(\\d+)\"\n",
        "match = re.search(regex, \"I was born on August 13\")\n",
        "\n",
        "if match is not None:\n",
        "    print(\"Match at index %s, %s\" % (match.start(), match.end()))\n",
        "    print(\"Full match: %s\" % match.group(0))\n",
        "    print(\"Month: %s\" % match.group(1))\n",
        "    print(\"Day: %s\" % match.group(2))\n",
        "else:\n",
        "    print(\"The regex pattern does not match\")\n"
      ],
      "metadata": {
        "colab": {
          "base_uri": "https://localhost:8080/"
        },
        "id": "En_M0lPaRxLR",
        "outputId": "dc7c4220-65b1-4062-e5b5-4b12a81ee4fa"
      },
      "execution_count": null,
      "outputs": [
        {
          "output_type": "stream",
          "name": "stdout",
          "text": [
            "The regex pattern does not match\n"
          ]
        }
      ]
    },
    {
      "cell_type": "code",
      "source": [
        "import re\n",
        "pattern= r\"I am writing assignment \\d+ [a-z]+ Python\"\n",
        "match=re.findall(pattern,\" I am writing second assignment in python\\n, moduleone module2\")\n",
        "if match:\n",
        "   print(match)\n",
        " "
      ],
      "metadata": {
        "id": "AKDI1-CFEm47"
      },
      "execution_count": null,
      "outputs": []
    },
    {
      "cell_type": "code",
      "source": [
        "import re\n",
        "pattern= r\"Jinesh is typing \\d+ [a-z]+ Python\"\n",
        "match=re.findall(pattern,\" Jinesh is typing 50 keywords python\\n, abcd akush anith,\")\n",
        "if match:\n",
        "   print(match)"
      ],
      "metadata": {
        "id": "SznOXtg4HEY7"
      },
      "execution_count": null,
      "outputs": []
    },
    {
      "cell_type": "code",
      "source": [
        "import re\n",
        "text=\"the brown fox jumps over the lazy dog\"\n",
        "#starting with b and end with n\n",
        "pattern=r\"\\bb.*n\\b\"\n",
        "matches=re.findall(pattern,text)\n",
        "if matches:\n",
        "   for i in range(min(5,len(matches))):\n",
        "       print(matches[i])"
      ],
      "metadata": {
        "colab": {
          "base_uri": "https://localhost:8080/"
        },
        "id": "Z7XYbXb5HF_-",
        "outputId": "62418b15-cf24-4056-aab6-26e9c09f7f07"
      },
      "execution_count": null,
      "outputs": [
        {
          "output_type": "stream",
          "name": "stdout",
          "text": [
            "brown\n"
          ]
        }
      ]
    },
    {
      "cell_type": "code",
      "source": [],
      "metadata": {
        "id": "US1num5_RANY"
      },
      "execution_count": null,
      "outputs": []
    }
  ]
}
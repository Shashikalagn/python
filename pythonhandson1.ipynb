{
  "nbformat": 4,
  "nbformat_minor": 0,
  "metadata": {
    "colab": {
      "provenance": [],
      "authorship_tag": "ABX9TyOJnrUXYTmpAOHWIlRJz5vN",
      "include_colab_link": true
    },
    "kernelspec": {
      "name": "python3",
      "display_name": "Python 3"
    },
    "language_info": {
      "name": "python"
    }
  },
  "cells": [
    {
      "cell_type": "markdown",
      "metadata": {
        "id": "view-in-github",
        "colab_type": "text"
      },
      "source": [
        "<a href=\"https://colab.research.google.com/github/Shashikalagn/python/blob/main/pythonhandson1.ipynb\" target=\"_parent\"><img src=\"https://colab.research.google.com/assets/colab-badge.svg\" alt=\"Open In Colab\"/></a>"
      ]
    },
    {
      "cell_type": "code",
      "execution_count": null,
      "metadata": {
        "id": "_kI-w929s9Co"
      },
      "outputs": [],
      "source": []
    },
    {
      "cell_type": "code",
      "source": [
        "class Array(object):\n",
        "    #to initialize the object created using this class\n",
        "    def __init__(self, sizeOfArray, arrayType = int) -> None:\n",
        "        self.sizeOfArray = len(list(map(arrayType, range(sizeOfArray))))\n",
        "        self.arrayOfItems = [arrayType(0)]*sizeOfArray\n",
        "    \n",
        "    #used to print the output to the console\n",
        "    def __str__(self) -> str:\n",
        "        return str(self.arrayOfItems)\n",
        "    #to return the length of the array datatype \n",
        "    def __len__(self) -> int:\n",
        "        return len(self.arrayOfItems)\n",
        "    \n",
        "    def insert(self, keyToInsert, position):\n",
        "        if self.sizeOfArray > position:\n",
        "    #the loop below is to shift the elements in case of insertion \n",
        "            for i in range(self.sizeOfArray-2,position - 1, -1):\n",
        "               self.arrayOfItems[i+1] = self.arrayOfItems[i]\n",
        "               self.arrayOfItems[position] = keyToInsert  \n",
        "        else:\n",
        "            print(\"Size of array is\", self.sizeOfArray)         "
      ],
      "metadata": {
        "id": "e9XgisfKtCG9"
      },
      "execution_count": null,
      "outputs": []
    },
    {
      "cell_type": "code",
      "source": [
        "a = Array(10, int) #creating an array object\n",
        "print(a)"
      ],
      "metadata": {
        "colab": {
          "base_uri": "https://localhost:8080/"
        },
        "id": "4XVAxTgctfGA",
        "outputId": "50592b72-c19f-49a5-d232-1eccff474328"
      },
      "execution_count": null,
      "outputs": [
        {
          "output_type": "stream",
          "name": "stdout",
          "text": [
            "[0, 0, 0, 0, 0, 0, 0, 0, 0, 0]\n"
          ]
        }
      ]
    },
    {
      "cell_type": "code",
      "source": [
        "b = Array(5, str) #declaring array of strings\n",
        "print(b)"
      ],
      "metadata": {
        "colab": {
          "base_uri": "https://localhost:8080/"
        },
        "id": "LIbwnq9MtkOp",
        "outputId": "7501c588-58b2-47cf-d1f8-46c6ee8f6ab3"
      },
      "execution_count": null,
      "outputs": [
        {
          "output_type": "stream",
          "name": "stdout",
          "text": [
            "['0', '0', '0', '0', '0']\n"
          ]
        }
      ]
    },
    {
      "cell_type": "code",
      "source": [
        "# note that code debugging is an important aspect of \n",
        "# coding. VS code provides it\n",
        "# the main concept is to go line by line \n",
        "# recording all the variables and seeing \n",
        "# their values and actions in realtime\n",
        "# and hence we'll det to the root of the bug or error"
      ],
      "metadata": {
        "id": "dSiG2MI9toYd"
      },
      "execution_count": null,
      "outputs": []
    },
    {
      "cell_type": "code",
      "source": [
        "a.insert(20,2)\n",
        "print(a)"
      ],
      "metadata": {
        "colab": {
          "base_uri": "https://localhost:8080/"
        },
        "id": "fziq9w5VtyGN",
        "outputId": "3537b329-f1f6-4ba8-fa78-e957087edebf"
      },
      "execution_count": null,
      "outputs": [
        {
          "output_type": "stream",
          "name": "stdout",
          "text": [
            "[0, 0, 20, 20, 0, 0, 0, 0, 0, 0]\n"
          ]
        }
      ]
    },
    {
      "cell_type": "code",
      "source": [
        "a.insert(50,5)\n",
        "print(a)"
      ],
      "metadata": {
        "colab": {
          "base_uri": "https://localhost:8080/"
        },
        "id": "jj6DnWMCt1gx",
        "outputId": "4d88864e-c3bc-47e0-808a-0cc2cb6a8762"
      },
      "execution_count": null,
      "outputs": [
        {
          "output_type": "stream",
          "name": "stdout",
          "text": [
            "[0, 0, 20, 20, 0, 50, 50, 0, 0, 0]\n"
          ]
        }
      ]
    },
    {
      "cell_type": "code",
      "source": [
        "a.insert(10,1)\n",
        "print(a)"
      ],
      "metadata": {
        "colab": {
          "base_uri": "https://localhost:8080/"
        },
        "id": "Vr1v6bAKt78f",
        "outputId": "79951e56-6330-4336-eb1d-46e8e473006f"
      },
      "execution_count": null,
      "outputs": [
        {
          "output_type": "stream",
          "name": "stdout",
          "text": [
            "[0, 10, 10, 20, 20, 0, 50, 50, 0, 0]\n"
          ]
        }
      ]
    },
    {
      "cell_type": "code",
      "source": [
        "a.insert(75,1)\n",
        "print(a)"
      ],
      "metadata": {
        "colab": {
          "base_uri": "https://localhost:8080/"
        },
        "id": "i1DPiCdVuJis",
        "outputId": "13fcb41c-7e4f-4d9f-e3ff-d195a70ff40b"
      },
      "execution_count": null,
      "outputs": [
        {
          "output_type": "stream",
          "name": "stdout",
          "text": [
            "[0, 75, 75, 10, 20, 20, 0, 50, 50, 0]\n"
          ]
        }
      ]
    },
    {
      "cell_type": "code",
      "source": [
        "# now notice that elements are first shifted\n",
        "# towards right and then the element is inserted\n",
        "# at that particular place"
      ],
      "metadata": {
        "id": "e7AdEttUuQzr"
      },
      "execution_count": null,
      "outputs": []
    },
    {
      "cell_type": "code",
      "source": [
        "\"\"\" LINKED LIST\n",
        "\n",
        "-> in array, the storage was contagious (one after the other)\n",
        "-> but in linked list, pointers are used to maintain continuity \n",
        " O    o\n",
        "(Oo): (Data Next)\n",
        "\n",
        "HEAD->Oo->Oo->Oo->NULL\n",
        "\"\"\""
      ],
      "metadata": {
        "colab": {
          "base_uri": "https://localhost:8080/",
          "height": 52
        },
        "id": "nxqDcjjyuVlh",
        "outputId": "21c4a752-98db-41ee-b942-b283af788601"
      },
      "execution_count": null,
      "outputs": [
        {
          "output_type": "execute_result",
          "data": {
            "text/plain": [
              "' LINKED LIST\\n\\n-> in array, the storage was contagious (one after the other)\\n-> but in linked list, pointers are used to maintain continuity \\n O    o\\n(Oo): (Data Next)\\n\\nHEAD->Oo->Oo->Oo->NULL\\n'"
            ],
            "application/vnd.google.colaboratory.intrinsic+json": {
              "type": "string"
            }
          },
          "metadata": {},
          "execution_count": 12
        }
      ]
    },
    {
      "cell_type": "code",
      "source": [
        "#implementation\n",
        "\n",
        "# the first thing will be the creation of the class\n",
        "# to create the node (it will have value and next pointer)\n",
        "class Node:\n",
        "    def __init__(self,value):\n",
        "        self.value = value\n",
        "        self.next = None\n",
        "\n",
        "# now we'll create a class to contain that created \n",
        "# linked list\n",
        "class LinkedList:\n",
        "    # we will have a head node to point the beginning of the list\n",
        "    # and a tail to point to the net node or end of the list\n",
        "    def __init__(self) -> None:\n",
        "        self.head = None\n",
        "        self.tail = None\n",
        "    def add_end(self, val):\n",
        "        # creating a new node\n",
        "        new_node = Node(val)\n",
        "        # if the new_node is the first node, \n",
        "        # in that case, both head and tail will point towards it\n",
        "        if self.head is None:\n",
        "           self.head = new_node\n",
        "           self.tail = new_node\n",
        "        # if its not, then, iterate to the end of list and add \n",
        "        else:\n",
        "            curr = self.head\n",
        "            while curr.next:\n",
        "                curr = curr.next\n",
        "            curr.next = new_node  \n",
        "     # now to print the linked list:\n",
        "    def __str__(self):\n",
        "        res = \"\"\n",
        "        curr = self.head\n",
        "        # iterate until None not reached\n",
        "        while curr:\n",
        "            res += str(curr.value) + \"->\"\n",
        "            curr = curr.next\n",
        "        # to remove the last '->' from the result, return only uptil 3rd last  \n",
        "        return res[:-2]\n",
        "        # now suppose we wanna find the length of linked list\n",
        "    def __len__(self):\n",
        "        l = 0\n",
        "        curr = self.head\n",
        "        while curr:\n",
        "            l += 1\n",
        "            curr = curr.next\n",
        "        return l\n",
        "        # adding a node before the first node of the linked list\n",
        "    def add_begin(self, value):\n",
        "        new_node = Node(value)\n",
        "        if self.head is None:\n",
        "            self.head = new_node\n",
        "            self.tail = new_node\n",
        "        # if not the first node, then new node will start pointing towards head\n",
        "        # and the head will be updated by the new node\n",
        "        else:\n",
        "            new_node.next = self.head\n",
        "            self.head = new_node\n",
        "        # okay, so we are gonna remove stuff from the end of the list\n",
        "    def remove_end(self):\n",
        "        # if it's already empty, then do nothing\n",
        "        if self.head is None:\n",
        "            return\n",
        "        # if the list is not empty, get till the \n",
        "        # second lasr element and make it's next as null.\n",
        "        elif self.head == self.tail:\n",
        "            self.head = None\n",
        "            self.tail =None\n",
        "        else:\n",
        "            curr = self.head\n",
        "            while curr.next.next:\n",
        "                curr = curr.next     \n",
        "            curr.next = None\n",
        "    def remove_first(self):\n",
        "        if self.head is None:\n",
        "            return\n",
        "        elif self.head == self.tail:\n",
        "            self.head = None\n",
        "            self.tail = None\n",
        "        else:\n",
        "            curr = self.head\n",
        "            self.head = self.head.next\n",
        "            curr.next = None    \n",
        "                    "
      ],
      "metadata": {
        "id": "9vLv9QtiulVp"
      },
      "execution_count": null,
      "outputs": []
    },
    {
      "cell_type": "code",
      "source": [
        "a = LinkedList()\n",
        "\n",
        "a.add_begin(5)\n",
        "a.add_begin(6)\n",
        "a.add_begin(7)\n",
        "print(a)"
      ],
      "metadata": {
        "colab": {
          "base_uri": "https://localhost:8080/"
        },
        "id": "QMl32NMAwX-l",
        "outputId": "39063eb3-ae05-4065-a27e-47bcd169b1b3"
      },
      "execution_count": null,
      "outputs": [
        {
          "output_type": "stream",
          "name": "stdout",
          "text": [
            "7->6->5\n"
          ]
        }
      ]
    },
    {
      "cell_type": "code",
      "source": [
        "a.add_end(15)\n",
        "a.add_end(96)"
      ],
      "metadata": {
        "id": "8LrTQJWTwdxF"
      },
      "execution_count": null,
      "outputs": []
    },
    {
      "cell_type": "code",
      "source": [
        "# adding the beginning:\n",
        "a.add_begin(10)\n",
        "a.add_begin(9)\n",
        "print(a)"
      ],
      "metadata": {
        "colab": {
          "base_uri": "https://localhost:8080/"
        },
        "id": "RDnEBqzpwhmq",
        "outputId": "da3db197-8a31-4241-edcf-76de4feab8b1"
      },
      "execution_count": null,
      "outputs": [
        {
          "output_type": "stream",
          "name": "stdout",
          "text": [
            "9->10->7->6->5->15->96\n"
          ]
        }
      ]
    },
    {
      "cell_type": "code",
      "source": [
        "print(len(a))"
      ],
      "metadata": {
        "colab": {
          "base_uri": "https://localhost:8080/"
        },
        "id": "bizXJPT-wkf2",
        "outputId": "f8db2b94-14bd-4998-b881-d5aefd7c78ed"
      },
      "execution_count": null,
      "outputs": [
        {
          "output_type": "stream",
          "name": "stdout",
          "text": [
            "7\n"
          ]
        }
      ]
    },
    {
      "cell_type": "code",
      "source": [
        "a.add_end(1)\n",
        "print(a)"
      ],
      "metadata": {
        "colab": {
          "base_uri": "https://localhost:8080/"
        },
        "id": "yccWnKihwoIj",
        "outputId": "4ca47727-af6c-4bca-ee68-91b22ffb7b61"
      },
      "execution_count": null,
      "outputs": [
        {
          "output_type": "stream",
          "name": "stdout",
          "text": [
            "9->10->7->6->5->15->96->1\n"
          ]
        }
      ]
    },
    {
      "cell_type": "code",
      "source": [
        "a.remove_end()\n",
        "print(a)"
      ],
      "metadata": {
        "colab": {
          "base_uri": "https://localhost:8080/"
        },
        "id": "OVNAH3wMwr9U",
        "outputId": "46cd87a8-238c-4950-d679-d318deb93246"
      },
      "execution_count": null,
      "outputs": [
        {
          "output_type": "stream",
          "name": "stdout",
          "text": [
            "9->10->7->6->5->15->96\n"
          ]
        }
      ]
    },
    {
      "cell_type": "code",
      "source": [
        "a.remove_first()\n",
        "print(a)"
      ],
      "metadata": {
        "colab": {
          "base_uri": "https://localhost:8080/"
        },
        "id": "rsm9U4Okwvcc",
        "outputId": "07cf8ac0-1d12-4130-99a7-c334dd525b20"
      },
      "execution_count": null,
      "outputs": [
        {
          "output_type": "stream",
          "name": "stdout",
          "text": [
            "10->7->6->5->15->96\n"
          ]
        }
      ]
    },
    {
      "cell_type": "code",
      "source": [
        "a.add_end(32)\n",
        "print(a)"
      ],
      "metadata": {
        "colab": {
          "base_uri": "https://localhost:8080/"
        },
        "id": "zTEkSVHAwyuV",
        "outputId": "e815640e-46af-4b79-f333-f042fb7fe9e8"
      },
      "execution_count": null,
      "outputs": [
        {
          "output_type": "stream",
          "name": "stdout",
          "text": [
            "10->7->6->5->15->96->32\n"
          ]
        }
      ]
    },
    {
      "cell_type": "code",
      "source": [
        "a.add_begin(30)\n",
        "print(a)"
      ],
      "metadata": {
        "colab": {
          "base_uri": "https://localhost:8080/"
        },
        "id": "xb9Kq_sXw1ut",
        "outputId": "dbde5b05-d2e8-4dc7-d5f9-3e3da246dda9"
      },
      "execution_count": null,
      "outputs": [
        {
          "output_type": "stream",
          "name": "stdout",
          "text": [
            "30->10->7->6->5->15->96->32\n"
          ]
        }
      ]
    },
    {
      "cell_type": "code",
      "source": [
        "a.remove_end()\n",
        "print(a)\n",
        "# solve that add end problem\n",
        "# add a loop, will work"
      ],
      "metadata": {
        "colab": {
          "base_uri": "https://localhost:8080/"
        },
        "id": "7NYVg0_aw8A4",
        "outputId": "989a5471-bebe-4d9d-faa1-04e3c97361a3"
      },
      "execution_count": null,
      "outputs": [
        {
          "output_type": "stream",
          "name": "stdout",
          "text": [
            "30->10->7->6->5->15->96\n"
          ]
        }
      ]
    },
    {
      "cell_type": "code",
      "source": [
        "# STACK\n",
        "# it's a filo data staructure\n",
        "\n",
        "# so let's implement it:\n",
        "\n",
        "class Stack:\n",
        "    # so we'll initialize it by an empty list\n",
        "    def __init__(self):\n",
        "        self.items = []\n",
        "    \n",
        "    # now to add element to the stack we'll simply append into the list\n",
        "    def push(self, item):\n",
        "        self.items.append(item)\n",
        "    \n",
        "    # popping from the list will remove the item from the right end\n",
        "    def pop(self):\n",
        "        if not self.is_empty(): # checking if the stack has no elemets\n",
        "            return self.items.pop()\n",
        "    \n",
        "    # this is created to check if the stack is empty or not\n",
        "    def is_empty(self):\n",
        "        if not self.items:\n",
        "            return True\n",
        "        else:\n",
        "            return False\n",
        "    # defining the funtion to print the stack\n",
        "    def __str__(self) -> str:\n",
        "        res = \"\"\n",
        "        for item in self.items:\n",
        "            res += str(item) + \"|\"\n",
        "        return res\n",
        "\n",
        "    # checcking the topmost element of the stack\n",
        "    def peek(self):\n",
        "        return self.items[-1]\n",
        "    \n",
        "    # to check the length of the created stack\n",
        "    def size(self):\n",
        "        return len(self.items)\n",
        "    \n",
        "    # to completey empty the entire stack \n",
        "    def empty_stack(self):\n",
        "        self.items = []\n",
        "\n"
      ],
      "metadata": {
        "id": "Hs1TwxsNxAlC"
      },
      "execution_count": null,
      "outputs": []
    },
    {
      "cell_type": "code",
      "source": [
        "my_stack = Stack()\n",
        "my_stack.push(1)\n",
        "my_stack.push(2)\n",
        "my_stack.push(3)\n",
        "my_stack.push(4)\n",
        "my_stack.pop()\n",
        "print(my_stack)"
      ],
      "metadata": {
        "colab": {
          "base_uri": "https://localhost:8080/"
        },
        "id": "phx5jMeQxMSz",
        "outputId": "b2073aa8-2c4c-4fa7-e535-e22443310367"
      },
      "execution_count": null,
      "outputs": [
        {
          "output_type": "stream",
          "name": "stdout",
          "text": [
            "1|2|3|\n"
          ]
        }
      ]
    },
    {
      "cell_type": "code",
      "source": [],
      "metadata": {
        "id": "0UHXT8i1xREd"
      },
      "execution_count": null,
      "outputs": []
    }
  ]
}